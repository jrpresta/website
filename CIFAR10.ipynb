{
 "cells": [
  {
   "cell_type": "markdown",
   "metadata": {},
   "source": [
    "Each label is encoded, 0-9, representing a class. Each image is a 3072 length array. The images are 32x32, so the first 1024 values correspond to the red channel, followed by the green and the red."
   ]
  },
  {
   "cell_type": "code",
   "execution_count": 1,
   "metadata": {
    "ExecuteTime": {
     "end_time": "2019-03-19T15:46:52.285802Z",
     "start_time": "2019-03-19T15:46:52.281526Z"
    }
   },
   "outputs": [],
   "source": [
    "def unpickle(file):\n",
    "    import pickle\n",
    "    with open(file, 'rb') as fo:\n",
    "        dict = pickle.load(fo, encoding='bytes')\n",
    "    return dict"
   ]
  },
  {
   "cell_type": "code",
   "execution_count": 2,
   "metadata": {
    "ExecuteTime": {
     "end_time": "2019-03-19T15:46:52.401159Z",
     "start_time": "2019-03-19T15:46:52.288928Z"
    }
   },
   "outputs": [],
   "source": [
    "data = unpickle('cifar-10-batches-py/data_batch_1')"
   ]
  },
  {
   "cell_type": "code",
   "execution_count": 3,
   "metadata": {
    "ExecuteTime": {
     "end_time": "2019-03-19T15:46:52.405381Z",
     "start_time": "2019-03-19T15:46:52.403086Z"
    }
   },
   "outputs": [],
   "source": [
    "x = data[b'labels']\n",
    "y = data[b'data']"
   ]
  },
  {
   "cell_type": "code",
   "execution_count": 4,
   "metadata": {
    "ExecuteTime": {
     "end_time": "2019-03-19T15:46:52.418822Z",
     "start_time": "2019-03-19T15:46:52.407969Z"
    }
   },
   "outputs": [
    {
     "data": {
      "text/plain": [
       "dict_keys([b'batch_label', b'labels', b'data', b'filenames'])"
      ]
     },
     "execution_count": 4,
     "metadata": {},
     "output_type": "execute_result"
    }
   ],
   "source": [
    "data.keys()"
   ]
  },
  {
   "cell_type": "markdown",
   "metadata": {},
   "source": [
    "# asdfadfasfas"
   ]
  },
  {
   "cell_type": "code",
   "execution_count": 14,
   "metadata": {
    "ExecuteTime": {
     "end_time": "2019-03-19T15:49:29.065910Z",
     "start_time": "2019-03-19T15:49:29.055412Z"
    }
   },
   "outputs": [],
   "source": [
    "import os\n",
    "import numpy as np\n",
    "from torch.utils.data import Dataset, DataLoader\n",
    "from pathlib import Path\n",
    "from skimage import io, transform\n",
    "from torchvision import utils, transforms\n",
    "import random\n",
    "\n",
    "from sklearn.model_selection import train_test_split\n",
    "\n",
    "import torch\n",
    "import torch.nn as nn\n",
    "import torch.nn.functional as F\n",
    "import torch.optim as optim\n",
    "\n",
    "import pickle\n",
    "import matplotlib.pyplot as plt\n",
    "%matplotlib inline"
   ]
  },
  {
   "cell_type": "code",
   "execution_count": 6,
   "metadata": {
    "ExecuteTime": {
     "end_time": "2019-03-19T15:46:53.283555Z",
     "start_time": "2019-03-19T15:46:53.281271Z"
    }
   },
   "outputs": [],
   "source": [
    "import warnings\n",
    "warnings.filterwarnings('ignore')"
   ]
  },
  {
   "cell_type": "markdown",
   "metadata": {},
   "source": [
    "# Image Preprocessing Functions"
   ]
  },
  {
   "cell_type": "code",
   "execution_count": 7,
   "metadata": {
    "ExecuteTime": {
     "end_time": "2019-03-19T15:46:53.296424Z",
     "start_time": "2019-03-19T15:46:53.285408Z"
    }
   },
   "outputs": [],
   "source": [
    "class Rescale(object):\n",
    "    \"\"\"Rescale the image in a sample to a given size.\n",
    "\n",
    "    Args:\n",
    "        output_size (tuple or int): Desired output size. If tuple, output is\n",
    "            matched to output_size. If int, smaller of image edges is matched\n",
    "            to output_size keeping aspect ratio the same.\n",
    "    \"\"\"\n",
    "    def __init__(self, output_size):\n",
    "        assert isinstance(output_size, (int, tuple))\n",
    "        self.output_size = output_size\n",
    "        \n",
    "    def __call__(self, sample):\n",
    "        image, label = sample['image'], sample['label']\n",
    "        \n",
    "        h, w = image.shape[:2]\n",
    "#         h, w = 32, 32\n",
    "        if isinstance(self.output_size, int):\n",
    "            if h > w:\n",
    "                new_h, new_w = self.output_size * h / w, self.output_size\n",
    "            else:\n",
    "                new_h, new_w = self.output_size, self.output_size * w / h\n",
    "        else:\n",
    "            new_h, new_w = self.output_size\n",
    "        \n",
    "        new_h, new_w = int(new_h), int(new_w)\n",
    "        img = transform.resize(image, (new_h, new_w))\n",
    "               \n",
    "        return {'image': img, 'label': label}\n",
    "    \n",
    "\n",
    "class RandomCrop(object):\n",
    "    \"\"\"Crop randomly the image in a sample.\n",
    "\n",
    "    Args:\n",
    "        output_size (tuple or int): Desired output size. If int, square crop\n",
    "            is made.\n",
    "    \"\"\"\n",
    "    def __init__(self, output_size):\n",
    "        assert isinstance(output_size, (int, tuple))\n",
    "        if isinstance(output_size, int):\n",
    "            self.output_size = (output_size, output_size)\n",
    "        else:\n",
    "            assert len(output_size) == 2\n",
    "            self.output_size = output_size\n",
    "            \n",
    "    def __call__(self, sample):\n",
    "        image, label = sample['image'], sample['label']\n",
    "        \n",
    "        h, w = image.shape[:2]\n",
    "        new_h, new_w = self.output_size\n",
    "        \n",
    "        top = np.random.randint(0, h-new_h)\n",
    "        left = np.random.randint(0, w-new_w)\n",
    "        \n",
    "        image = image[top: top+new_h,\n",
    "                      left: left+new_w]\n",
    "        \n",
    "        return {'image': image, 'label': label}\n",
    "    \n",
    "    \n",
    "class ToTensor(object):\n",
    "    \"\"\"Convert ndarrays in sample to Tensors.\"\"\"\n",
    "    def __call__(self, sample):\n",
    "        image, label = sample['image'], sample['label']\n",
    "        \n",
    "        # swap color axis because\n",
    "        # numpy iamge: HxWxC\n",
    "        # torch image: CxHxW\n",
    "        image = image.transpose((2, 0, 1))\n",
    "        return {'image': torch.from_numpy(image),\n",
    "                'label': label}"
   ]
  },
  {
   "cell_type": "markdown",
   "metadata": {},
   "source": [
    "# Create the Dataset Object"
   ]
  },
  {
   "cell_type": "code",
   "execution_count": 8,
   "metadata": {
    "ExecuteTime": {
     "end_time": "2019-03-19T15:46:53.302441Z",
     "start_time": "2019-03-19T15:46:53.297990Z"
    }
   },
   "outputs": [],
   "source": [
    "class CIFARDataset(Dataset):\n",
    "    def __init__(self, batch_lst:list, transform=None):\n",
    "        \"\"\"To be used when iterating over the \n",
    "        files within the root directory\"\"\"\n",
    "        data = unpickle(batch_dir)\n",
    "        self.labels = data[b'labels']\n",
    "        self.images = [cifar10_to_rgb(img) for img in data[b'data']]\n",
    "#         self.images = cifar10_to_rgb(data[b'data'])\n",
    "        self.transform = transform\n",
    "        \n",
    "    def __len__(self):\n",
    "        return len(self.labels)\n",
    "    \n",
    "    def __getitem__(self, idx:int) -> dict:\n",
    "        \"\"\"For any index in the range of img_lst\n",
    "        it maps image to the image values\n",
    "        and species to the type of bird\"\"\"\n",
    "        sample = {'image': self.images[idx], \n",
    "                  'label': self.labels[idx]}\n",
    "        \n",
    "        if self.transform:\n",
    "            sample = self.transform(sample)\n",
    "            \n",
    "        return sample"
   ]
  },
  {
   "cell_type": "code",
   "execution_count": 9,
   "metadata": {
    "ExecuteTime": {
     "end_time": "2019-03-19T15:46:53.308522Z",
     "start_time": "2019-03-19T15:46:53.304166Z"
    }
   },
   "outputs": [],
   "source": [
    "def cifar10_to_rgb(arr_lst):\n",
    "    ___ = []\n",
    "    for k in range(32):\n",
    "        __ = []\n",
    "        for j in range(32):\n",
    "            _ = []\n",
    "            for i in range(3):\n",
    "                _ += [arr_lst[1024*i+32*j+k]]\n",
    "            __ += [_]\n",
    "        ___ += [__]\n",
    "    return np.array(___)"
   ]
  },
  {
   "cell_type": "code",
   "execution_count": 12,
   "metadata": {
    "ExecuteTime": {
     "end_time": "2019-03-19T15:47:09.489716Z",
     "start_time": "2019-03-19T15:46:53.317996Z"
    }
   },
   "outputs": [],
   "source": [
    "CIFAR = CIFARDataset('cifar-10-batches-py/data_batch_1',\n",
    "                     transform=transforms.Compose([\n",
    "#                                       Rescale(256),\n",
    "                                      RandomCrop(30),\n",
    "                                      ToTensor()\n",
    "                                  ]))"
   ]
  },
  {
   "cell_type": "code",
   "execution_count": 20,
   "metadata": {
    "ExecuteTime": {
     "end_time": "2019-03-19T15:52:26.957801Z",
     "start_time": "2019-03-19T15:52:26.944854Z"
    }
   },
   "outputs": [],
   "source": [
    "train_dataset, test_dataset = train_test_split(CIFAR, random_state=88)"
   ]
  },
  {
   "cell_type": "code",
   "execution_count": null,
   "metadata": {
    "ExecuteTime": {
     "end_time": "2019-03-16T06:56:15.206302Z",
     "start_time": "2019-03-16T06:56:15.202452Z"
    }
   },
   "outputs": [],
   "source": [
    "# upload_root_dir = Path('uploaded_img/')\n",
    "# upload_img_lst = os.listdir('uploaded_img/')\n",
    "# # upload_birds_dataset = BirdDataset(upload_root_dir, upload_img_lst)\n",
    "\n",
    "# upload_bird_dataset = BirdDataset(upload_root_dir, upload_img_lst,\n",
    "#                                   transform=transforms.Compose([\n",
    "#                                       Rescale(256),\n",
    "#                                       RandomCrop(224),\n",
    "#                                       ToTensor()\n",
    "#                                   ]))"
   ]
  },
  {
   "cell_type": "code",
   "execution_count": null,
   "metadata": {
    "ExecuteTime": {
     "end_time": "2019-03-16T07:05:20.354012Z",
     "start_time": "2019-03-16T07:05:20.342278Z"
    }
   },
   "outputs": [],
   "source": [
    "# predictions = net(upload_tensor.reshape((1, 3, 224, 224)))"
   ]
  },
  {
   "cell_type": "code",
   "execution_count": null,
   "metadata": {
    "ExecuteTime": {
     "end_time": "2019-03-16T07:08:35.458266Z",
     "start_time": "2019-03-16T07:08:35.455168Z"
    }
   },
   "outputs": [],
   "source": [
    "# predictions = predictions.tolist()[0]"
   ]
  },
  {
   "cell_type": "code",
   "execution_count": null,
   "metadata": {
    "ExecuteTime": {
     "end_time": "2019-03-16T07:08:37.472350Z",
     "start_time": "2019-03-16T07:08:37.468124Z"
    }
   },
   "outputs": [],
   "source": [
    "# predictions.index(max(predictions))"
   ]
  },
  {
   "cell_type": "code",
   "execution_count": null,
   "metadata": {
    "ExecuteTime": {
     "end_time": "2019-03-16T07:08:59.186876Z",
     "start_time": "2019-03-16T07:08:59.182740Z"
    }
   },
   "outputs": [],
   "source": [
    "# predictions[96]"
   ]
  },
  {
   "cell_type": "code",
   "execution_count": 22,
   "metadata": {
    "ExecuteTime": {
     "end_time": "2019-03-19T15:56:05.739508Z",
     "start_time": "2019-03-19T15:56:05.376457Z"
    },
    "scrolled": true
   },
   "outputs": [
    {
     "name": "stdout",
     "output_type": "stream",
     "text": [
      "8\n",
      "(32, 32, 3)\n"
     ]
    },
    {
     "data": {
      "image/png": "[encoded data removed]",
      "text/plain": [
       "<Figure size 432x288 with 1 Axes>"
      ]
     },
     "metadata": {
      "needs_background": "light"
     },
     "output_type": "display_data"
    },
    {
     "name": "stdout",
     "output_type": "stream",
     "text": [
      "8\n",
      "(32, 32, 3)\n"
     ]
    },
    {
     "data": {
      "image/png": "[encoded data removed]",
      "text/plain": [
       "<Figure size 432x288 with 1 Axes>"
      ]
     },
     "metadata": {
      "needs_background": "light"
     },
     "output_type": "display_data"
    },
    {
     "name": "stdout",
     "output_type": "stream",
     "text": [
      "3\n",
      "(32, 32, 3)\n"
     ]
    },
    {
     "data": {
      "image/png": "[encoded data removed]",
      "text/plain": [
       "<Figure size 432x288 with 1 Axes>"
      ]
     },
     "metadata": {
      "needs_background": "light"
     },
     "output_type": "display_data"
    },
    {
     "name": "stdout",
     "output_type": "stream",
     "text": [
      "9\n",
      "(32, 32, 3)\n"
     ]
    },
    {
     "data": {
      "image/png": "[encoded data removed]",
      "text/plain": [
       "<Figure size 432x288 with 1 Axes>"
      ]
     },
     "metadata": {
      "needs_background": "light"
     },
     "output_type": "display_data"
    }
   ],
   "source": [
    "def show_img(image):\n",
    "    plt.imshow(image)\n",
    "    plt.pause(0.001)\n",
    "    \n",
    "\n",
    "fig = plt.figure()\n",
    "\n",
    "for i in range(len(train_dataset)):\n",
    "    sample = train_dataset[i]\n",
    "    \n",
    "    print(sample['label'])\n",
    "    print(sample['image'].shape)\n",
    "    \n",
    "    ax = plt.subplot(1, 4, i+1)\n",
    "    plt.tight_layout()\n",
    "    ax.set_title('Sample #{}'.format(i))\n",
    "    ax.axis('off')\n",
    "#     show_duck(sample['image'])\n",
    "    show_img(sample['image'])\n",
    "    \n",
    "    if i == 3:\n",
    "        plt.show()\n",
    "        break"
   ]
  },
  {
   "cell_type": "markdown",
   "metadata": {},
   "source": [
    "# Use the Data Loader to Implement Batches"
   ]
  },
  {
   "cell_type": "code",
   "execution_count": 27,
   "metadata": {
    "ExecuteTime": {
     "end_time": "2019-03-19T15:58:39.484224Z",
     "start_time": "2019-03-19T15:58:39.259388Z"
    }
   },
   "outputs": [
    {
     "ename": "TypeError",
     "evalue": "unsupported operand type(s) for +: 'dict' and 'dict'",
     "output_type": "error",
     "traceback": [
      "\u001b[0;31m---------------------------------------------------------------------------\u001b[0m",
      "\u001b[0;31mTypeError\u001b[0m                                 Traceback (most recent call last)",
      "\u001b[0;32m<ipython-input-27-a452aa6b65dc>\u001b[0m in \u001b[0;36m<module>\u001b[0;34m\u001b[0m\n\u001b[0;32m----> 1\u001b[0;31m \u001b[0mCIFAR\u001b[0m\u001b[0;34m[\u001b[0m\u001b[0;36m0\u001b[0m\u001b[0;34m]\u001b[0m \u001b[0;34m+\u001b[0m \u001b[0mCIFAR\u001b[0m\u001b[0;34m[\u001b[0m\u001b[0;36m1\u001b[0m\u001b[0;34m]\u001b[0m\u001b[0;34m\u001b[0m\u001b[0;34m\u001b[0m\u001b[0m\n\u001b[0m",
      "\u001b[0;31mTypeError\u001b[0m: unsupported operand type(s) for +: 'dict' and 'dict'"
     ]
    }
   ],
   "source": []
  },
  {
   "cell_type": "code",
   "execution_count": null,
   "metadata": {
    "ExecuteTime": {
     "end_time": "2019-03-15T20:28:02.804062Z",
     "start_time": "2019-03-15T20:28:02.800147Z"
    }
   },
   "outputs": [],
   "source": [
    "train_birds_dataset = BirdDataset(train_root_dir, train_img_lst,\n",
    "                                  transform=transforms.Compose([\n",
    "                                                Rescale(256),\n",
    "                                                RandomCrop(224),\n",
    "                                                ToTensor()\n",
    "                                  ]))\n",
    "test_birds_dataset = BirdDataset(test_root_dir, test_img_lst,\n",
    "                                 transform=transforms.Compose([\n",
    "                                                 Rescale(256),\n",
    "                                                 RandomCrop(224),\n",
    "                                                 ToTensor()\n",
    "                                 ]))"
   ]
  },
  {
   "cell_type": "code",
   "execution_count": null,
   "metadata": {
    "ExecuteTime": {
     "end_time": "2019-03-15T20:28:07.124180Z",
     "start_time": "2019-03-15T20:28:06.355916Z"
    }
   },
   "outputs": [],
   "source": [
    "train_dataloader = DataLoader(train_birds_dataset, batch_size=4,\n",
    "                              shuffle=True, num_workers=4)\n",
    "test_dataloader = DataLoader(test_birds_dataset, batch_size=4,\n",
    "                              shuffle=True, num_workers=4)\n",
    " \n",
    "def show_birds_batch(sample_batched):\n",
    "    \"\"\"Show species images for a batch\"\"\"\n",
    "    images_batch, species_batch = sample_batched['image'], sample_batched['species']\n",
    "    batch_size = len(images_batch)\n",
    "    im_size = images_batch.size(2)\n",
    "    \n",
    "    grid = utils.make_grid(images_batch)\n",
    "    plt.imshow(grid.numpy().transpose((1, 2, 0)))\n",
    "    \n",
    "    for i in range(batch_size):      \n",
    "        plt.title('Batch from dataloader')\n",
    "    \n",
    "    \n",
    "for i_batch, sample_batched in enumerate(train_dataloader):\n",
    "    print(i_batch, sample_batched['image'].size(),\n",
    "          sample_batched['species'])\n",
    "    plt.figure()\n",
    "    show_birds_batch(sample_batched)\n",
    "    plt.axis('off')\n",
    "    plt.ioff()\n",
    "    plt.show()\n",
    "    \n",
    "    if i_batch == 3:\n",
    "        break"
   ]
  },
  {
   "cell_type": "markdown",
   "metadata": {},
   "source": [
    "# Train The Model"
   ]
  },
  {
   "cell_type": "markdown",
   "metadata": {},
   "source": [
    "### Define The Network"
   ]
  },
  {
   "cell_type": "code",
   "execution_count": null,
   "metadata": {
    "ExecuteTime": {
     "end_time": "2019-03-16T06:55:32.310234Z",
     "start_time": "2019-03-16T06:55:32.302028Z"
    }
   },
   "outputs": [],
   "source": [
    "class Network(nn.Module):\n",
    "    def __init__(self, dropout_rate=0):\n",
    "        super(Network, self).__init__()\n",
    "        # Conv arguments were arbitrarily changed to require less model parameters\n",
    "        self.conv1 = nn.Conv2d(3, 4, 8, stride=2)\n",
    "        self.pool = nn.MaxPool2d(2, 2)\n",
    "        self.conv2 = nn.Conv2d(4, 10, 8, stride=2)\n",
    "        # First linear argument is a function of image size and conv parameters\n",
    "        self.fc1 = nn.Linear(10*12*12, 1000)\n",
    "        self.fc2 = nn.Linear(1000, 500)\n",
    "        self.fc3 = nn.Linear(500, 200)\n",
    "        self.dropout = nn.Dropout(dropout_rate)\n",
    "\n",
    "    def forward(self, x):\n",
    "        x = self.pool(F.relu(self.conv1(x)))\n",
    "        x = self.pool(F.relu(self.conv2(x)))\n",
    "        x = x.view(-1, 10*12*12)\n",
    "        x = F.relu(self.fc1(x))\n",
    "        x = self.dropout(x)\n",
    "        x = F.relu(self.fc2(x))\n",
    "        x = self.dropout(x)\n",
    "        x = self.fc3(x)\n",
    "        return x\n",
    "\n",
    "# net = Network(0.5)"
   ]
  },
  {
   "cell_type": "markdown",
   "metadata": {},
   "source": [
    "### Create a Loss and Optimizer"
   ]
  },
  {
   "cell_type": "code",
   "execution_count": null,
   "metadata": {
    "ExecuteTime": {
     "end_time": "2019-03-15T20:32:21.829033Z",
     "start_time": "2019-03-15T20:32:21.825497Z"
    }
   },
   "outputs": [],
   "source": [
    "criterion = nn.CrossEntropyLoss()\n",
    "optimizer = optim.SGD(net.parameters(), lr=0.001, \n",
    "                      momentum=0.9, weight_decay=0.00001)\n",
    "# optimizer = optim.Adam(net.parameters(), lr=0.001)"
   ]
  },
  {
   "cell_type": "markdown",
   "metadata": {},
   "source": [
    "### Train For Real"
   ]
  },
  {
   "cell_type": "code",
   "execution_count": null,
   "metadata": {
    "ExecuteTime": {
     "end_time": "2019-03-15T20:32:31.580035Z",
     "start_time": "2019-03-15T20:32:31.571896Z"
    }
   },
   "outputs": [],
   "source": [
    "def train(num_epocs):\n",
    "    losses = []\n",
    "    for epoch in range(num_epocs):\n",
    "        net.train()\n",
    "        running_loss = 0.0\n",
    "        for i, data in enumerate(train_dataloader, 0):\n",
    "            inputs = data['image'].float()\n",
    "            labels = data['species']\n",
    "            \n",
    "            optimizer.zero_grad()\n",
    "            \n",
    "            outputs = net(inputs)\n",
    "            loss = criterion(outputs, labels)\n",
    "            losses += [loss.item()]\n",
    "            \n",
    "            loss.backward()\n",
    "            optimizer.step()\n",
    "            \n",
    "            running_loss += loss.item()\n",
    "            if i % 200 == 199:\n",
    "                print(f'[{epoch+1}, {i+1}] loss: {running_loss/200}')\n",
    "                running_loss = 0.0\n",
    "        test()\n",
    "\n",
    "                \n",
    "def test():\n",
    "    losses = []\n",
    "    net.eval()\n",
    "    for i, data in enumerate(test_dataloader, 0):\n",
    "        inputs = data['image'].float()\n",
    "        labels = data['species']\n",
    "        \n",
    "        outputs = net(inputs)\n",
    "        loss = criterion(outputs, labels)\n",
    "        losses += [loss.item()]\n",
    "    print(f'Test Loss: {np.mean(losses)}')\n",
    "\n",
    "    \n",
    "# train(10)"
   ]
  },
  {
   "cell_type": "code",
   "execution_count": null,
   "metadata": {
    "ExecuteTime": {
     "end_time": "2019-03-15T07:27:30.011054Z",
     "start_time": "2019-03-15T07:11:56.318621Z"
    }
   },
   "outputs": [],
   "source": [
    "train(10)"
   ]
  },
  {
   "cell_type": "code",
   "execution_count": null,
   "metadata": {
    "ExecuteTime": {
     "end_time": "2019-03-15T07:34:56.046226Z",
     "start_time": "2019-03-15T07:27:30.021411Z"
    }
   },
   "outputs": [],
   "source": [
    "optimizer = optim.SGD(net.parameters(), lr=0.0001,\n",
    "                      momentum=0.9, weight_decay=0.00001)\n",
    "train(5)"
   ]
  },
  {
   "cell_type": "code",
   "execution_count": null,
   "metadata": {
    "ExecuteTime": {
     "end_time": "2019-03-15T07:52:02.255588Z",
     "start_time": "2019-03-15T07:37:23.430203Z"
    }
   },
   "outputs": [],
   "source": [
    "train(10)"
   ]
  },
  {
   "cell_type": "code",
   "execution_count": null,
   "metadata": {
    "ExecuteTime": {
     "end_time": "2019-03-15T07:52:02.414644Z",
     "start_time": "2019-03-15T07:52:02.396567Z"
    }
   },
   "outputs": [],
   "source": [
    "torch.save(net, 'models/dropout.pt')"
   ]
  },
  {
   "cell_type": "code",
   "execution_count": null,
   "metadata": {
    "ExecuteTime": {
     "end_time": "2019-03-15T16:58:06.618925Z",
     "start_time": "2019-03-15T16:58:06.592857Z"
    },
    "scrolled": true
   },
   "outputs": [],
   "source": [
    "net = torch.load('models/dropout.pt')"
   ]
  },
  {
   "cell_type": "code",
   "execution_count": null,
   "metadata": {
    "ExecuteTime": {
     "end_time": "2019-03-15T17:18:55.916088Z",
     "start_time": "2019-03-15T17:03:40.224643Z"
    }
   },
   "outputs": [],
   "source": [
    "train(10)"
   ]
  },
  {
   "cell_type": "code",
   "execution_count": null,
   "metadata": {
    "ExecuteTime": {
     "end_time": "2019-03-15T17:36:20.251162Z",
     "start_time": "2019-03-15T17:36:20.244106Z"
    }
   },
   "outputs": [],
   "source": [
    "# How to save model\n",
    "# torch.save(net.state_dict(), 'models/dropout_not_pickle.pt')"
   ]
  },
  {
   "cell_type": "code",
   "execution_count": null,
   "metadata": {
    "ExecuteTime": {
     "end_time": "2019-03-16T06:56:06.692243Z",
     "start_time": "2019-03-16T06:56:06.649652Z"
    }
   },
   "outputs": [],
   "source": [
    "# How to load model\n",
    "\n",
    "net = Network(0.5)\n",
    "net.load_state_dict(torch.load('models/current_model.pt'))\n",
    "net.eval()"
   ]
  },
  {
   "cell_type": "code",
   "execution_count": null,
   "metadata": {
    "ExecuteTime": {
     "end_time": "2019-03-15T20:47:26.040873Z",
     "start_time": "2019-03-15T20:32:43.332643Z"
    }
   },
   "outputs": [],
   "source": [
    "train(10)"
   ]
  },
  {
   "cell_type": "code",
   "execution_count": null,
   "metadata": {
    "ExecuteTime": {
     "end_time": "2019-03-15T20:59:05.405391Z",
     "start_time": "2019-03-15T20:51:09.046509Z"
    }
   },
   "outputs": [],
   "source": [
    "train(5)"
   ]
  },
  {
   "cell_type": "code",
   "execution_count": null,
   "metadata": {
    "ExecuteTime": {
     "end_time": "2019-03-15T21:08:47.894664Z",
     "start_time": "2019-03-15T21:08:47.887652Z"
    }
   },
   "outputs": [],
   "source": [
    "torch.save(net.state_dict(), 'models/dropout_not_pickle.pt')"
   ]
  },
  {
   "cell_type": "code",
   "execution_count": null,
   "metadata": {},
   "outputs": [],
   "source": []
  }
 ],
 "metadata": {
  "kernelspec": {
   "display_name": "Python 3",
   "language": "python",
   "name": "python3"
  },
  "language_info": {
   "codemirror_mode": {
    "name": "ipython",
    "version": 3
   },
   "file_extension": ".py",
   "mimetype": "text/x-python",
   "name": "python",
   "nbconvert_exporter": "python",
   "pygments_lexer": "ipython3",
   "version": "3.6.8"
  }
 },
 "nbformat": 4,
 "nbformat_minor": 2
}
