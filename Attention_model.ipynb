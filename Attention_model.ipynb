{
 "cells": [
  {
   "cell_type": "markdown",
   "metadata": {},
   "source": [
    "# Data Loading"
   ]
  },
  {
   "cell_type": "markdown",
   "metadata": {},
   "source": [
    "Note that we will encode a positive review as a 1 and a negative review as a 0."
   ]
  },
  {
   "cell_type": "code",
   "execution_count": 31,
   "metadata": {
    "ExecuteTime": {
     "end_time": "2019-05-26T00:21:30.332296Z",
     "start_time": "2019-05-26T00:21:30.328467Z"
    }
   },
   "outputs": [],
   "source": [
    "import os\n",
    "import pandas as pd\n",
    "import numpy as np\n",
    "import math\n",
    "\n",
    "import torch\n",
    "import torch.optim as optim\n",
    "import torch.nn as nn\n",
    "from torch.utils.data import Dataset, DataLoader"
   ]
  },
  {
   "cell_type": "code",
   "execution_count": 2,
   "metadata": {
    "ExecuteTime": {
     "end_time": "2019-05-25T20:03:26.054689Z",
     "start_time": "2019-05-25T20:03:26.051818Z"
    }
   },
   "outputs": [],
   "source": [
    "TRAIN_PATH = 'aclImdb/train'\n",
    "TEST_PATH = 'aclImdb/test'"
   ]
  },
  {
   "cell_type": "code",
   "execution_count": 3,
   "metadata": {
    "ExecuteTime": {
     "end_time": "2019-05-25T20:03:26.688934Z",
     "start_time": "2019-05-25T20:03:26.683466Z"
    }
   },
   "outputs": [],
   "source": [
    "def data_read(path, train_or_test, pos_or_neg):\n",
    "    reviews, labels = [], []\n",
    "    \n",
    "    for filename in os.listdir(path + '/' + pos_or_neg):\n",
    "        with open(path + '/' + pos_or_neg + '/' + filename) as f:\n",
    "            reviews.append(f.read())\n",
    "        if pos_or_neg == 'pos':\n",
    "            label = 1\n",
    "        else:\n",
    "            label = 0\n",
    "        labels.append(label)\n",
    "    \n",
    "    return reviews, labels"
   ]
  },
  {
   "cell_type": "code",
   "execution_count": 4,
   "metadata": {
    "ExecuteTime": {
     "end_time": "2019-05-25T20:03:35.009165Z",
     "start_time": "2019-05-25T20:03:27.208334Z"
    }
   },
   "outputs": [],
   "source": [
    "pos_results = data_read(TRAIN_PATH, 'train', 'pos')\n",
    "reviews = pos_results[0]\n",
    "labels = pos_results[1]\n",
    "\n",
    "neg_results = data_read(TRAIN_PATH, 'train', 'neg')\n",
    "reviews += neg_results[0]\n",
    "labels += neg_results[1]"
   ]
  },
  {
   "cell_type": "code",
   "execution_count": 5,
   "metadata": {
    "ExecuteTime": {
     "end_time": "2019-05-25T20:03:35.031900Z",
     "start_time": "2019-05-25T20:03:35.011096Z"
    }
   },
   "outputs": [],
   "source": [
    "train_df = pd.DataFrame({'reviews': reviews, 'y': labels})"
   ]
  },
  {
   "cell_type": "code",
   "execution_count": 6,
   "metadata": {
    "ExecuteTime": {
     "end_time": "2019-05-25T20:03:35.057979Z",
     "start_time": "2019-05-25T20:03:35.034482Z"
    }
   },
   "outputs": [
    {
     "data": {
      "text/html": [
       "<div>\n",
       "<style scoped>\n",
       "    .dataframe tbody tr th:only-of-type {\n",
       "        vertical-align: middle;\n",
       "    }\n",
       "\n",
       "    .dataframe tbody tr th {\n",
       "        vertical-align: top;\n",
       "    }\n",
       "\n",
       "    .dataframe thead th {\n",
       "        text-align: right;\n",
       "    }\n",
       "</style>\n",
       "<table border=\"1\" class=\"dataframe\">\n",
       "  <thead>\n",
       "    <tr style=\"text-align: right;\">\n",
       "      <th></th>\n",
       "      <th>reviews</th>\n",
       "      <th>y</th>\n",
       "    </tr>\n",
       "  </thead>\n",
       "  <tbody>\n",
       "    <tr>\n",
       "      <th>0</th>\n",
       "      <td>For a movie that gets no respect there sure ar...</td>\n",
       "      <td>1</td>\n",
       "    </tr>\n",
       "    <tr>\n",
       "      <th>1</th>\n",
       "      <td>Bizarre horror movie filled with famous faces ...</td>\n",
       "      <td>1</td>\n",
       "    </tr>\n",
       "    <tr>\n",
       "      <th>2</th>\n",
       "      <td>A solid, if unremarkable film. Matthau, as Ein...</td>\n",
       "      <td>1</td>\n",
       "    </tr>\n",
       "    <tr>\n",
       "      <th>3</th>\n",
       "      <td>It's a strange feeling to sit alone in a theat...</td>\n",
       "      <td>1</td>\n",
       "    </tr>\n",
       "    <tr>\n",
       "      <th>4</th>\n",
       "      <td>You probably all already know this by now, but...</td>\n",
       "      <td>1</td>\n",
       "    </tr>\n",
       "  </tbody>\n",
       "</table>\n",
       "</div>"
      ],
      "text/plain": [
       "                                             reviews  y\n",
       "0  For a movie that gets no respect there sure ar...  1\n",
       "1  Bizarre horror movie filled with famous faces ...  1\n",
       "2  A solid, if unremarkable film. Matthau, as Ein...  1\n",
       "3  It's a strange feeling to sit alone in a theat...  1\n",
       "4  You probably all already know this by now, but...  1"
      ]
     },
     "execution_count": 6,
     "metadata": {},
     "output_type": "execute_result"
    }
   ],
   "source": [
    "train_df.head()"
   ]
  },
  {
   "cell_type": "code",
   "execution_count": 7,
   "metadata": {
    "ExecuteTime": {
     "end_time": "2019-05-25T20:03:36.991971Z",
     "start_time": "2019-05-25T20:03:36.009267Z"
    }
   },
   "outputs": [],
   "source": [
    "pos_results = data_read(TRAIN_PATH, 'test', 'pos')\n",
    "reviews = pos_results[0]\n",
    "labels = pos_results[1]\n",
    "\n",
    "neg_results = data_read(TRAIN_PATH, 'test', 'neg')\n",
    "reviews += neg_results[0]\n",
    "labels += neg_results[1]"
   ]
  },
  {
   "cell_type": "code",
   "execution_count": 8,
   "metadata": {
    "ExecuteTime": {
     "end_time": "2019-05-25T20:03:37.530088Z",
     "start_time": "2019-05-25T20:03:37.511638Z"
    }
   },
   "outputs": [],
   "source": [
    "test_df = pd.DataFrame({'reviews': reviews, 'y': labels})"
   ]
  },
  {
   "cell_type": "code",
   "execution_count": 9,
   "metadata": {
    "ExecuteTime": {
     "end_time": "2019-05-25T20:03:38.133884Z",
     "start_time": "2019-05-25T20:03:38.127067Z"
    }
   },
   "outputs": [
    {
     "data": {
      "text/html": [
       "<div>\n",
       "<style scoped>\n",
       "    .dataframe tbody tr th:only-of-type {\n",
       "        vertical-align: middle;\n",
       "    }\n",
       "\n",
       "    .dataframe tbody tr th {\n",
       "        vertical-align: top;\n",
       "    }\n",
       "\n",
       "    .dataframe thead th {\n",
       "        text-align: right;\n",
       "    }\n",
       "</style>\n",
       "<table border=\"1\" class=\"dataframe\">\n",
       "  <thead>\n",
       "    <tr style=\"text-align: right;\">\n",
       "      <th></th>\n",
       "      <th>reviews</th>\n",
       "      <th>y</th>\n",
       "    </tr>\n",
       "  </thead>\n",
       "  <tbody>\n",
       "    <tr>\n",
       "      <th>0</th>\n",
       "      <td>For a movie that gets no respect there sure ar...</td>\n",
       "      <td>1</td>\n",
       "    </tr>\n",
       "    <tr>\n",
       "      <th>1</th>\n",
       "      <td>Bizarre horror movie filled with famous faces ...</td>\n",
       "      <td>1</td>\n",
       "    </tr>\n",
       "    <tr>\n",
       "      <th>2</th>\n",
       "      <td>A solid, if unremarkable film. Matthau, as Ein...</td>\n",
       "      <td>1</td>\n",
       "    </tr>\n",
       "    <tr>\n",
       "      <th>3</th>\n",
       "      <td>It's a strange feeling to sit alone in a theat...</td>\n",
       "      <td>1</td>\n",
       "    </tr>\n",
       "    <tr>\n",
       "      <th>4</th>\n",
       "      <td>You probably all already know this by now, but...</td>\n",
       "      <td>1</td>\n",
       "    </tr>\n",
       "  </tbody>\n",
       "</table>\n",
       "</div>"
      ],
      "text/plain": [
       "                                             reviews  y\n",
       "0  For a movie that gets no respect there sure ar...  1\n",
       "1  Bizarre horror movie filled with famous faces ...  1\n",
       "2  A solid, if unremarkable film. Matthau, as Ein...  1\n",
       "3  It's a strange feeling to sit alone in a theat...  1\n",
       "4  You probably all already know this by now, but...  1"
      ]
     },
     "execution_count": 9,
     "metadata": {},
     "output_type": "execute_result"
    }
   ],
   "source": [
    "test_df.head()"
   ]
  },
  {
   "cell_type": "code",
   "execution_count": 10,
   "metadata": {
    "ExecuteTime": {
     "end_time": "2019-05-25T20:03:38.844677Z",
     "start_time": "2019-05-25T20:03:38.836242Z"
    }
   },
   "outputs": [
    {
     "data": {
      "text/html": [
       "<div>\n",
       "<style scoped>\n",
       "    .dataframe tbody tr th:only-of-type {\n",
       "        vertical-align: middle;\n",
       "    }\n",
       "\n",
       "    .dataframe tbody tr th {\n",
       "        vertical-align: top;\n",
       "    }\n",
       "\n",
       "    .dataframe thead th {\n",
       "        text-align: right;\n",
       "    }\n",
       "</style>\n",
       "<table border=\"1\" class=\"dataframe\">\n",
       "  <thead>\n",
       "    <tr style=\"text-align: right;\">\n",
       "      <th></th>\n",
       "      <th>reviews</th>\n",
       "      <th>y</th>\n",
       "    </tr>\n",
       "  </thead>\n",
       "  <tbody>\n",
       "    <tr>\n",
       "      <th>24995</th>\n",
       "      <td>My comments may be a bit of a spoiler, for wha...</td>\n",
       "      <td>0</td>\n",
       "    </tr>\n",
       "    <tr>\n",
       "      <th>24996</th>\n",
       "      <td>The \"saucy\" misadventures of four au pairs who...</td>\n",
       "      <td>0</td>\n",
       "    </tr>\n",
       "    <tr>\n",
       "      <th>24997</th>\n",
       "      <td>Oh, those Italians! Assuming that movies about...</td>\n",
       "      <td>0</td>\n",
       "    </tr>\n",
       "    <tr>\n",
       "      <th>24998</th>\n",
       "      <td>Eight academy nominations? It's beyond belief....</td>\n",
       "      <td>0</td>\n",
       "    </tr>\n",
       "    <tr>\n",
       "      <th>24999</th>\n",
       "      <td>Not that I dislike childrens movies, but this ...</td>\n",
       "      <td>0</td>\n",
       "    </tr>\n",
       "  </tbody>\n",
       "</table>\n",
       "</div>"
      ],
      "text/plain": [
       "                                                 reviews  y\n",
       "24995  My comments may be a bit of a spoiler, for wha...  0\n",
       "24996  The \"saucy\" misadventures of four au pairs who...  0\n",
       "24997  Oh, those Italians! Assuming that movies about...  0\n",
       "24998  Eight academy nominations? It's beyond belief....  0\n",
       "24999  Not that I dislike childrens movies, but this ...  0"
      ]
     },
     "execution_count": 10,
     "metadata": {},
     "output_type": "execute_result"
    }
   ],
   "source": [
    "test_df.tail()"
   ]
  },
  {
   "cell_type": "markdown",
   "metadata": {},
   "source": [
    "# Pre-Processing"
   ]
  },
  {
   "cell_type": "code",
   "execution_count": 11,
   "metadata": {
    "ExecuteTime": {
     "end_time": "2019-05-25T20:03:40.474251Z",
     "start_time": "2019-05-25T20:03:40.471031Z"
    }
   },
   "outputs": [],
   "source": [
    "MAX_LENGTH = 15\n",
    "\n",
    "UNK_token = 0\n",
    "PAD_token = 1\n",
    "SOS_token = 2\n",
    "EOS_token = 3"
   ]
  },
  {
   "cell_type": "code",
   "execution_count": 12,
   "metadata": {
    "ExecuteTime": {
     "end_time": "2019-05-25T20:03:41.200760Z",
     "start_time": "2019-05-25T20:03:41.188963Z"
    }
   },
   "outputs": [],
   "source": [
    "class Voc(Dataset):\n",
    "    def __init__(self, name):\n",
    "        self.name = name\n",
    "        self.trimmed = False\n",
    "        self.word2index = {}\n",
    "        self.word2count = {}\n",
    "        self.index2word = {PAD_token: 'PAD', SOS_token: 'SOS', \n",
    "                           EOS_token: 'EOS', UNK_token: 'UNK'}\n",
    "        self.num_words = 4 # include the ones above\n",
    "\n",
    "    def add_sentence(self, sentence):\n",
    "        for word in sentence.split():\n",
    "            self.add_word(word.lower())\n",
    "\n",
    "    def add_word(self, word):\n",
    "        if word not in self.word2index:\n",
    "            self.word2index[word] = self.num_words\n",
    "            self.word2count[word] = 1\n",
    "            self.index2word[self.num_words] = word\n",
    "            self.num_words += 1\n",
    "        else:\n",
    "            self.word2count[word] += 1\n",
    "\n",
    "    # remove words that appear less frequently\n",
    "    def trim(self, min_count):\n",
    "        if self.trimmed:\n",
    "            return\n",
    "        self.trimmed = True\n",
    "        keep_words = []\n",
    "        for k, v in self.word2count.items():\n",
    "            if v >= min_count:\n",
    "                keep_words.append(k)\n",
    "\n",
    "        self.word2index = {}\n",
    "        self.word2count = {}\n",
    "        self.index2word = {PAD_token: 'PAD', SOS_token: 'SOS', \n",
    "                           EOS_token: 'EOS', UNK_token: 'UNK'}\n",
    "        self.num_words = 4\n",
    "        for word in keep_words:\n",
    "            self.add_word(word)\n",
    "\n",
    "# takes string sentence and returns sentence of word indices\n",
    "def indexesFromSentence(voc, sentence):\n",
    "    return [voc.word2index[word] for word in sentence.split()] + [EOS_token]"
   ]
  },
  {
   "cell_type": "code",
   "execution_count": 13,
   "metadata": {
    "ExecuteTime": {
     "end_time": "2019-05-25T20:03:41.939194Z",
     "start_time": "2019-05-25T20:03:41.933585Z"
    }
   },
   "outputs": [],
   "source": [
    "class ReviewDataset():\n",
    "    def __init__(self, df):\n",
    "        \"\"\"Bad coding practice to use the globals but it will work for now\"\"\"\n",
    "        self.reviews = df\n",
    "        self.text = df['reviews']\n",
    "        self.rating = df['y']\n",
    "        \n",
    "    def __len__(self):\n",
    "        return len(self.reviews)\n",
    "    \n",
    "    def __getitem__(self, idx):\n",
    "        return (self.text[idx], self.rating[idx])"
   ]
  },
  {
   "cell_type": "code",
   "execution_count": 14,
   "metadata": {
    "ExecuteTime": {
     "end_time": "2019-05-25T20:03:42.529618Z",
     "start_time": "2019-05-25T20:03:42.526884Z"
    }
   },
   "outputs": [],
   "source": [
    "reviews = Voc('reviews')"
   ]
  },
  {
   "cell_type": "code",
   "execution_count": 15,
   "metadata": {
    "ExecuteTime": {
     "end_time": "2019-05-25T20:03:46.961492Z",
     "start_time": "2019-05-25T20:03:43.150519Z"
    }
   },
   "outputs": [],
   "source": [
    "for review in train_df['reviews']:\n",
    "    reviews.add_sentence(review)"
   ]
  },
  {
   "cell_type": "code",
   "execution_count": 16,
   "metadata": {
    "ExecuteTime": {
     "end_time": "2019-05-25T20:03:47.527975Z",
     "start_time": "2019-05-25T20:03:47.524834Z"
    }
   },
   "outputs": [],
   "source": [
    "train_ds = ReviewDataset(train_df)\n",
    "test_ds = ReviewDataset(test_df)"
   ]
  },
  {
   "cell_type": "code",
   "execution_count": 17,
   "metadata": {
    "ExecuteTime": {
     "end_time": "2019-05-25T20:03:48.070440Z",
     "start_time": "2019-05-25T20:03:48.066174Z"
    }
   },
   "outputs": [
    {
     "data": {
      "text/plain": [
       "[22454, 562, 3]"
      ]
     },
     "execution_count": 17,
     "metadata": {},
     "output_type": "execute_result"
    }
   ],
   "source": [
    "indexesFromSentence(reviews, 'hello world')"
   ]
  },
  {
   "cell_type": "markdown",
   "metadata": {},
   "source": [
    "Write out reviews to pickle object for later prediction"
   ]
  },
  {
   "cell_type": "code",
   "execution_count": 18,
   "metadata": {
    "ExecuteTime": {
     "end_time": "2019-05-25T20:03:51.097507Z",
     "start_time": "2019-05-25T20:03:50.918430Z"
    }
   },
   "outputs": [],
   "source": [
    "import pickle\n",
    "\n",
    "pickle.dump(reviews, open('./model/reviews.pkl', 'wb'))"
   ]
  },
  {
   "cell_type": "code",
   "execution_count": 19,
   "metadata": {
    "ExecuteTime": {
     "end_time": "2019-05-25T20:03:52.506420Z",
     "start_time": "2019-05-25T20:03:52.502875Z"
    }
   },
   "outputs": [],
   "source": [
    "train_dataloader = DataLoader(train_ds,\n",
    "                              batch_size=1000,\n",
    "                              shuffle=True, \n",
    "                              num_workers=4)\n",
    "\n",
    "test_dataloader = DataLoader(test_ds,\n",
    "                             batch_size=1000,\n",
    "                             shuffle=True,\n",
    "                             num_workers=4)"
   ]
  },
  {
   "cell_type": "markdown",
   "metadata": {},
   "source": [
    "# Modeling"
   ]
  },
  {
   "cell_type": "markdown",
   "metadata": {},
   "source": [
    "The Han model is going to fit a GRU, and for each word i in the sequence, we will collect the hidden layer $h_{i}$. Then for the attention model we have the following algorithm, for word $w_{t}$ in sentence of length T."
   ]
  },
  {
   "cell_type": "markdown",
   "metadata": {},
   "source": [
    "Step 3)\n",
    "\n",
    "$u_{i} = tanh(W_{w}h_{i} + b_{i})$"
   ]
  },
  {
   "cell_type": "markdown",
   "metadata": {},
   "source": [
    "Step 4)\n",
    "\n",
    "$\\alpha_{i} = \\frac{exp(u_{i}^{T}u_{w})}{\\Sigma_{i}exp(u_{i}^{T}u_{w})}$"
   ]
  },
  {
   "cell_type": "markdown",
   "metadata": {},
   "source": [
    "Step 5)\n",
    "\n",
    "$s = \\Sigma_{i} \\alpha_{i}h_{i}$\n",
    "\n",
    "\n",
    "\n",
    "\n",
    "\n",
    "\n",
    "\n",
    "\n",
    "\n",
    "\n",
    "."
   ]
  },
  {
   "cell_type": "markdown",
   "metadata": {},
   "source": [
    "s is then input into a neural network for regression or classification."
   ]
  },
  {
   "cell_type": "code",
   "execution_count": 23,
   "metadata": {
    "ExecuteTime": {
     "end_time": "2019-05-25T20:21:14.809057Z",
     "start_time": "2019-05-25T20:21:14.768679Z"
    }
   },
   "outputs": [],
   "source": [
    "class HAN(nn.Module):\n",
    "    def __init__(self, vocab_size, embedding_dim=60, hidden_size=15, num_layers=1, dropout=0.1):\n",
    "        super(HAN, self).__init__()\n",
    "        self.gru = nn.GRU(input_size=embedding_dim, hidden_size=hidden_size,\n",
    "                          num_layers=num_layers, batch_first=True,\n",
    "                              dropout=(0 if num_layers==1 else dropout),\n",
    "                              bidirectional=True)\n",
    "\n",
    "        self.embedding = nn.Embedding(vocab_size, embedding_dim)\n",
    "        self.fc1 = nn.Linear(2*hidden_size, 100)\n",
    "        self.tanh = nn.Tanh()\n",
    "        self.fc2 = nn.Linear(100, 1, bias=False)\n",
    "        self.softmax = nn.Softmax(dim=1)\n",
    "        self.fc3 = nn.Linear(2*hidden_size, 1)\n",
    "        self.sigmoid = nn.Sigmoid()\n",
    "        \n",
    "    def forward(self, input_seq, input_lengths, hidden=None):\n",
    "        # convert word indices to embeddings\n",
    "        embedded = self.embedding(input_seq)\n",
    "        \n",
    "        # pass embeddings through GRU\n",
    "        # all_layers is shape batch_size x max(sentence_length) x hidden_size*2\n",
    "        all_layers, final = self.gru(embedded, hidden)\n",
    "\n",
    "        # pass the hidden layers through linear layer\n",
    "        # each word of each document will now be a length 100 tensor\n",
    "        u = self.tanh( self.fc1(all_layers) )\n",
    "        \n",
    "        # map the length 100 tensor to a scalar representing importance\n",
    "        # take the softmax to get the word importance WRT the document\n",
    "        alpha = self.softmax( self.fc2(u) )\n",
    "        \n",
    "        # take sum of hidden layers for each sentence weighted by the alphas \n",
    "        s = (all_layers*alpha).sum(dim=1)\n",
    "        \n",
    "        # take the linear combination of hidden layers and \n",
    "        # plug into Linear Layer and Sigmoid to get probability\n",
    "#         s = self.sigmoid( self.fc3(s) )\n",
    "        s = self.fc3(s)\n",
    "        \n",
    "        return s.squeeze(), alpha.squeeze() # will add alphas for visualization later"
   ]
  },
  {
   "cell_type": "code",
   "execution_count": 24,
   "metadata": {
    "ExecuteTime": {
     "end_time": "2019-05-25T20:21:15.386482Z",
     "start_time": "2019-05-25T20:21:15.359338Z"
    }
   },
   "outputs": [],
   "source": [
    "def train(model, num_epochs):\n",
    "    for epoch in range(num_epochs):\n",
    "        model.train()\n",
    "        losses = []\n",
    "        \n",
    "        for i, mails in enumerate(train_dataloader):\n",
    "            # read in values from dataloader\n",
    "            x = mails[0]\n",
    "            y = mails[1]\n",
    "\n",
    "            # index sentence and get lengths\n",
    "            x = [sen.split() for sen in x]\n",
    "            lengths = [len(sen) for sen in x]\n",
    "            x = [[reviews.word2index.get(word, UNK_token) for word in sentence] for sentence in x]\n",
    "\n",
    "            # create padded matrix\n",
    "            batch_size = len(y)\n",
    "            max_length = max(lengths)\n",
    "            padded_x = np.ones((batch_size, max_length))*PAD_token\n",
    "            for idx, x_len in enumerate(lengths):\n",
    "                sequence = x[idx]\n",
    "                padded_x[idx, 0:x_len] = sequence[:x_len]\n",
    "\n",
    "            x = torch.Tensor(padded_x).long()\n",
    "            y_hat, alpha = han(x, lengths)\n",
    "            optimizer.zero_grad()\n",
    "            \n",
    "            loss = criterion(y_hat, y.float())\n",
    "            loss.backward()\n",
    "            optimizer.step()\n",
    "            losses += [loss.item()]\n",
    "            \n",
    "        print(f'Train Loss after {epoch+1} epochs: {np.mean(losses)}')\n",
    "        if epoch % 5 == 4:\n",
    "            test(model)\n",
    "\n",
    "\n",
    "def test(model):\n",
    "    model.eval()\n",
    "    losses, correct, total = [], 0, 0\n",
    "    for i, mails in enumerate(test_dataloader):\n",
    "        # read in values from dataloader\n",
    "        x = mails[0]\n",
    "        y = mails[1]\n",
    "\n",
    "        # index sentence and get lengths\n",
    "        x = [sen.split() for sen in x]\n",
    "        lengths = [len(sen) for sen in x]\n",
    "        x = [[reviews.word2index.get(word, UNK_token) for word in sentence] for sentence in x]\n",
    "\n",
    "        # create padded matrix\n",
    "        batch_size = len(y)\n",
    "        max_length = max(lengths)\n",
    "        \n",
    "        padded_x = np.ones((batch_size, max_length))*PAD_token\n",
    "        for idx, x_len in enumerate(lengths):\n",
    "            sequence = x[idx]\n",
    "            padded_x[idx, 0:x_len] = sequence[:x_len]\n",
    "\n",
    "        x = torch.Tensor(padded_x).long()\n",
    "        y_hat, _ = han(x, lengths)\n",
    "\n",
    "        # cross-entropy\n",
    "        loss = criterion(y_hat, y.float())\n",
    "        losses += [loss.item()]\n",
    "        \n",
    "        # accuracy\n",
    "        # print(y_hat == y)\n",
    "        # correct += sum( y_hat == y )\n",
    "        # total += y.shape.squeeze().tolist()\n",
    "        \n",
    "    print(f'Test Loss: {np.mean(losses)}\\n')\n",
    "    # print(f'Test Accuracy: {correct / total}')"
   ]
  },
  {
   "cell_type": "markdown",
   "metadata": {},
   "source": [
    "# Training"
   ]
  },
  {
   "cell_type": "code",
   "execution_count": 25,
   "metadata": {
    "ExecuteTime": {
     "end_time": "2019-05-26T00:19:18.198728Z",
     "start_time": "2019-05-25T20:21:16.632747Z"
    }
   },
   "outputs": [
    {
     "name": "stdout",
     "output_type": "stream",
     "text": [
      "Train Loss after 1 epochs: 0.678569655418396\n",
      "Train Loss after 2 epochs: 0.522399514913559\n",
      "Train Loss after 3 epochs: 0.34435847103595735\n",
      "Train Loss after 4 epochs: 0.16044421523809432\n",
      "Train Loss after 5 epochs: 0.061335157603025436\n",
      "Test Loss: 0.0261311249434948\n",
      "\n",
      "Train Loss after 6 epochs: 0.0191841222345829\n",
      "Train Loss after 7 epochs: 0.006571692358702422\n",
      "Train Loss after 8 epochs: 0.003411653712391853\n",
      "Train Loss after 9 epochs: 0.0021326040220446883\n",
      "Train Loss after 10 epochs: 0.0020969630498439075\n",
      "Test Loss: 0.0016086027468554677\n",
      "\n",
      "Train Loss after 11 epochs: 0.004618597531225533\n",
      "Train Loss after 12 epochs: 0.004192256764508784\n",
      "Train Loss after 13 epochs: 0.002409373081754893\n",
      "Train Loss after 14 epochs: 0.001007323528174311\n",
      "Train Loss after 15 epochs: 0.0007438638899475336\n",
      "Test Loss: 0.00038465476303827016\n",
      "\n",
      "Train Loss after 16 epochs: 0.004079316125717014\n",
      "Train Loss after 17 epochs: 0.0037302453303709624\n",
      "Train Loss after 18 epochs: 0.0019192558259237557\n",
      "Train Loss after 19 epochs: 0.0022387272759806366\n",
      "Train Loss after 20 epochs: 0.002383740127552301\n",
      "Test Loss: 0.0006961358414264396\n",
      "\n"
     ]
    }
   ],
   "source": [
    "V = len(reviews.index2word)\n",
    "han = HAN(hidden_size=40, vocab_size=V, embedding_dim=50)\n",
    "\n",
    "criterion = nn.BCEWithLogitsLoss()\n",
    "optimizer = optim.Adam(han.parameters(), lr=0.01)\n",
    "\n",
    "train(han, 20)"
   ]
  },
  {
   "cell_type": "code",
   "execution_count": 26,
   "metadata": {
    "ExecuteTime": {
     "end_time": "2019-05-26T00:19:47.465109Z",
     "start_time": "2019-05-26T00:19:47.211243Z"
    }
   },
   "outputs": [],
   "source": [
    "torch.save(han.state_dict(), '/Users/jon_ross/Desktop/HAN_lower.pt')"
   ]
  },
  {
   "cell_type": "markdown",
   "metadata": {},
   "source": [
    "TODO: Resume here by loading the model"
   ]
  },
  {
   "cell_type": "markdown",
   "metadata": {},
   "source": [
    "# Visualize Attention"
   ]
  },
  {
   "cell_type": "code",
   "execution_count": 36,
   "metadata": {
    "ExecuteTime": {
     "end_time": "2019-05-26T00:22:46.791169Z",
     "start_time": "2019-05-26T00:22:46.781618Z"
    },
    "scrolled": true
   },
   "outputs": [],
   "source": [
    "import matplotlib.pyplot as plt\n",
    "from matplotlib import transforms\n",
    "\n",
    "\n",
    "def sigmoid(x): return 1 / (1 + math.exp(-x))\n",
    "\n",
    "def text_color(x, y, strings, colors, ax=None, **kw): \n",
    "    \"\"\"x and y will be equal to 0\n",
    "    strings is a list of words\n",
    "    colors is a list of numbers [0,1] \n",
    "    where 1 represents the most important word\"\"\"\n",
    "    if ax is None:\n",
    "        ax = plt.gca()\n",
    "    t = ax.transData\n",
    "    canvas = ax.figure.canvas\n",
    "\n",
    "    # horizontal version\n",
    "    for s, c in zip(strings, colors):\n",
    "        text = ax.text(x, y, s + \" \", color=(0.69-0.69*c,0.69-0.69*c,1), transform=t, **kw)\n",
    "        text.draw(canvas.get_renderer())\n",
    "        ex = text.get_window_extent()\n",
    "        t = transforms.offset_copy(\n",
    "            text.get_transform(), x=ex.width, units='dots')\n",
    "        \n",
    "\n",
    "def visualize_attention(sentence):\n",
    "    sentence_tensor = torch.Tensor( [reviews.word2index[word] for word in sentence.split()] ).long()\n",
    "    sentence_tensor = sentence_tensor.unsqueeze(dim=0)\n",
    "    \n",
    "    p, alpha = han( sentence_tensor, [len(sentence.split())] )\n",
    "    print(f'Probability of positive review: { sigmoid(p) }')\n",
    "    \n",
    "    text_color(0, 0, sentence.split(), alpha.tolist())\n",
    "    plt.axis('off')"
   ]
  },
  {
   "cell_type": "markdown",
   "metadata": {},
   "source": [
    "TODO: Unseen words are breaking the visualize function and I think it's because of the casing issues"
   ]
  },
  {
   "cell_type": "code",
   "execution_count": 37,
   "metadata": {
    "ExecuteTime": {
     "end_time": "2019-05-26T00:22:47.725769Z",
     "start_time": "2019-05-26T00:22:47.640539Z"
    }
   },
   "outputs": [
    {
     "name": "stdout",
     "output_type": "stream",
     "text": [
      "Probability of positive review: 0.02744986983283157\n"
     ]
    },
    {
     "data": {
      "image/png": "[encoded data removed]",
      "text/plain": [
       "<Figure size 432x288 with 1 Axes>"
      ]
     },
     "metadata": {
      "needs_background": "light"
     },
     "output_type": "display_data"
    }
   ],
   "source": [
    "visualize_attention('this film was horrible and i hated it')"
   ]
  },
  {
   "cell_type": "code",
   "execution_count": 38,
   "metadata": {
    "ExecuteTime": {
     "end_time": "2019-05-26T00:22:50.592495Z",
     "start_time": "2019-05-26T00:22:50.517991Z"
    }
   },
   "outputs": [
    {
     "name": "stdout",
     "output_type": "stream",
     "text": [
      "Probability of positive review: 0.9999045230107327\n"
     ]
    },
    {
     "data": {
      "image/png": "[encoded data removed]",
      "text/plain": [
       "<Figure size 432x288 with 1 Axes>"
      ]
     },
     "metadata": {
      "needs_background": "light"
     },
     "output_type": "display_data"
    }
   ],
   "source": [
    "visualize_attention('wonderful story about a family')"
   ]
  },
  {
   "cell_type": "code",
   "execution_count": 39,
   "metadata": {
    "ExecuteTime": {
     "end_time": "2019-05-26T00:22:56.157878Z",
     "start_time": "2019-05-26T00:22:56.086519Z"
    }
   },
   "outputs": [
    {
     "name": "stdout",
     "output_type": "stream",
     "text": [
      "Probability of positive review: 0.9998630936055926\n"
     ]
    },
    {
     "data": {
      "image/png": "[encoded data removed]",
      "text/plain": [
       "<Figure size 432x288 with 1 Axes>"
      ]
     },
     "metadata": {
      "needs_background": "light"
     },
     "output_type": "display_data"
    }
   ],
   "source": [
    "visualize_attention('fun for the whole family')"
   ]
  },
  {
   "cell_type": "code",
   "execution_count": 40,
   "metadata": {
    "ExecuteTime": {
     "end_time": "2019-05-26T00:24:02.991203Z",
     "start_time": "2019-05-26T00:24:02.893069Z"
    }
   },
   "outputs": [
    {
     "name": "stdout",
     "output_type": "stream",
     "text": [
      "Probability of positive review: 0.877300941328807\n"
     ]
    },
    {
     "data": {
      "image/png": "[encoded data removed]",
      "text/plain": [
       "<Figure size 432x288 with 1 Axes>"
      ]
     },
     "metadata": {
      "needs_background": "light"
     },
     "output_type": "display_data"
    }
   ],
   "source": [
    "visualize_attention('whatever you do you must drop everything and go watch this wonderful production')"
   ]
  },
  {
   "cell_type": "code",
   "execution_count": 41,
   "metadata": {
    "ExecuteTime": {
     "end_time": "2019-05-26T00:24:43.181767Z",
     "start_time": "2019-05-26T00:24:43.089151Z"
    }
   },
   "outputs": [
    {
     "name": "stdout",
     "output_type": "stream",
     "text": [
      "Probability of positive review: 0.021357637542321062\n"
     ]
    },
    {
     "data": {
      "image/png": "[encoded data removed]",
      "text/plain": [
       "<Figure size 432x288 with 1 Axes>"
      ]
     },
     "metadata": {
      "needs_background": "light"
     },
     "output_type": "display_data"
    }
   ],
   "source": [
    "visualize_attention('whatever you do you must avoid this film at all cost')"
   ]
  },
  {
   "cell_type": "code",
   "execution_count": null,
   "metadata": {},
   "outputs": [],
   "source": []
  }
 ],
 "metadata": {
  "kernelspec": {
   "display_name": "Python 3",
   "language": "python",
   "name": "python3"
  },
  "language_info": {
   "codemirror_mode": {
    "name": "ipython",
    "version": 3
   },
   "file_extension": ".py",
   "mimetype": "text/x-python",
   "name": "python",
   "nbconvert_exporter": "python",
   "pygments_lexer": "ipython3",
   "version": "3.7.3"
  },
  "notify_time": "5"
 },
 "nbformat": 4,
 "nbformat_minor": 2
}
