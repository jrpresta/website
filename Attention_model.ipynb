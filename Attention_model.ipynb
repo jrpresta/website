{
 "cells": [
  {
   "cell_type": "markdown",
   "metadata": {},
   "source": [
    "# Data Loading"
   ]
  },
  {
   "cell_type": "markdown",
   "metadata": {},
   "source": [
    "Note that we will encode a positive review as a 1 and a negative review as a 0."
   ]
  },
  {
   "cell_type": "code",
   "execution_count": 1,
   "metadata": {
    "ExecuteTime": {
     "end_time": "2019-04-16T19:49:54.214541Z",
     "start_time": "2019-04-16T19:49:52.871891Z"
    }
   },
   "outputs": [],
   "source": [
    "import os\n",
    "import pandas as pd\n",
    "import numpy as np\n",
    "\n",
    "import torch\n",
    "import torch.optim as optim\n",
    "import torch.nn as nn\n",
    "from torch.utils.data import Dataset, DataLoader"
   ]
  },
  {
   "cell_type": "code",
   "execution_count": 2,
   "metadata": {
    "ExecuteTime": {
     "end_time": "2019-04-16T19:49:54.690726Z",
     "start_time": "2019-04-16T19:49:54.688101Z"
    }
   },
   "outputs": [],
   "source": [
    "TRAIN_PATH = 'aclImdb/train'\n",
    "TEST_PATH = 'aclImdb/test'"
   ]
  },
  {
   "cell_type": "code",
   "execution_count": 3,
   "metadata": {
    "ExecuteTime": {
     "end_time": "2019-04-16T19:49:55.267381Z",
     "start_time": "2019-04-16T19:49:55.262723Z"
    }
   },
   "outputs": [],
   "source": [
    "def data_read(path, train_or_test, pos_or_neg):\n",
    "    reviews, labels = [], []\n",
    "    \n",
    "    for filename in os.listdir(path + '/' + pos_or_neg):\n",
    "        with open(path + '/' + pos_or_neg + '/' + filename) as f:\n",
    "            reviews.append(f.read())\n",
    "        if pos_or_neg == 'pos':\n",
    "            label = 1\n",
    "        else:\n",
    "            label = 0\n",
    "        labels.append(label)\n",
    "    \n",
    "    return reviews, labels"
   ]
  },
  {
   "cell_type": "code",
   "execution_count": 4,
   "metadata": {
    "ExecuteTime": {
     "end_time": "2019-04-16T19:49:57.066220Z",
     "start_time": "2019-04-16T19:49:55.828190Z"
    }
   },
   "outputs": [],
   "source": [
    "pos_results = data_read(TRAIN_PATH, 'train', 'pos')\n",
    "reviews = pos_results[0]\n",
    "labels = pos_results[1]\n",
    "\n",
    "neg_results = data_read(TRAIN_PATH, 'train', 'neg')\n",
    "reviews += neg_results[0]\n",
    "labels += neg_results[1]"
   ]
  },
  {
   "cell_type": "code",
   "execution_count": 5,
   "metadata": {
    "ExecuteTime": {
     "end_time": "2019-04-16T19:49:57.083744Z",
     "start_time": "2019-04-16T19:49:57.068591Z"
    }
   },
   "outputs": [],
   "source": [
    "train_df = pd.DataFrame({'reviews': reviews, 'y': labels})"
   ]
  },
  {
   "cell_type": "code",
   "execution_count": 6,
   "metadata": {
    "ExecuteTime": {
     "end_time": "2019-04-16T19:49:57.639623Z",
     "start_time": "2019-04-16T19:49:57.612932Z"
    }
   },
   "outputs": [
    {
     "data": {
      "text/html": [
       "<div>\n",
       "<style scoped>\n",
       "    .dataframe tbody tr th:only-of-type {\n",
       "        vertical-align: middle;\n",
       "    }\n",
       "\n",
       "    .dataframe tbody tr th {\n",
       "        vertical-align: top;\n",
       "    }\n",
       "\n",
       "    .dataframe thead th {\n",
       "        text-align: right;\n",
       "    }\n",
       "</style>\n",
       "<table border=\"1\" class=\"dataframe\">\n",
       "  <thead>\n",
       "    <tr style=\"text-align: right;\">\n",
       "      <th></th>\n",
       "      <th>reviews</th>\n",
       "      <th>y</th>\n",
       "    </tr>\n",
       "  </thead>\n",
       "  <tbody>\n",
       "    <tr>\n",
       "      <th>0</th>\n",
       "      <td>For a movie that gets no respect there sure ar...</td>\n",
       "      <td>1</td>\n",
       "    </tr>\n",
       "    <tr>\n",
       "      <th>1</th>\n",
       "      <td>Bizarre horror movie filled with famous faces ...</td>\n",
       "      <td>1</td>\n",
       "    </tr>\n",
       "    <tr>\n",
       "      <th>2</th>\n",
       "      <td>A solid, if unremarkable film. Matthau, as Ein...</td>\n",
       "      <td>1</td>\n",
       "    </tr>\n",
       "    <tr>\n",
       "      <th>3</th>\n",
       "      <td>It's a strange feeling to sit alone in a theat...</td>\n",
       "      <td>1</td>\n",
       "    </tr>\n",
       "    <tr>\n",
       "      <th>4</th>\n",
       "      <td>You probably all already know this by now, but...</td>\n",
       "      <td>1</td>\n",
       "    </tr>\n",
       "  </tbody>\n",
       "</table>\n",
       "</div>"
      ],
      "text/plain": [
       "                                             reviews  y\n",
       "0  For a movie that gets no respect there sure ar...  1\n",
       "1  Bizarre horror movie filled with famous faces ...  1\n",
       "2  A solid, if unremarkable film. Matthau, as Ein...  1\n",
       "3  It's a strange feeling to sit alone in a theat...  1\n",
       "4  You probably all already know this by now, but...  1"
      ]
     },
     "execution_count": 6,
     "metadata": {},
     "output_type": "execute_result"
    }
   ],
   "source": [
    "train_df.head()"
   ]
  },
  {
   "cell_type": "code",
   "execution_count": 7,
   "metadata": {
    "ExecuteTime": {
     "end_time": "2019-04-16T19:49:59.126490Z",
     "start_time": "2019-04-16T19:49:58.157991Z"
    }
   },
   "outputs": [],
   "source": [
    "pos_results = data_read(TRAIN_PATH, 'test', 'pos')\n",
    "reviews = pos_results[0]\n",
    "labels = pos_results[1]\n",
    "\n",
    "neg_results = data_read(TRAIN_PATH, 'test', 'neg')\n",
    "reviews += neg_results[0]\n",
    "labels += neg_results[1]"
   ]
  },
  {
   "cell_type": "code",
   "execution_count": 8,
   "metadata": {
    "ExecuteTime": {
     "end_time": "2019-04-16T19:49:59.143737Z",
     "start_time": "2019-04-16T19:49:59.128414Z"
    }
   },
   "outputs": [],
   "source": [
    "test_df = pd.DataFrame({'reviews': reviews, 'y': labels})"
   ]
  },
  {
   "cell_type": "code",
   "execution_count": 9,
   "metadata": {
    "ExecuteTime": {
     "end_time": "2019-04-16T19:49:59.528204Z",
     "start_time": "2019-04-16T19:49:59.521799Z"
    }
   },
   "outputs": [
    {
     "data": {
      "text/html": [
       "<div>\n",
       "<style scoped>\n",
       "    .dataframe tbody tr th:only-of-type {\n",
       "        vertical-align: middle;\n",
       "    }\n",
       "\n",
       "    .dataframe tbody tr th {\n",
       "        vertical-align: top;\n",
       "    }\n",
       "\n",
       "    .dataframe thead th {\n",
       "        text-align: right;\n",
       "    }\n",
       "</style>\n",
       "<table border=\"1\" class=\"dataframe\">\n",
       "  <thead>\n",
       "    <tr style=\"text-align: right;\">\n",
       "      <th></th>\n",
       "      <th>reviews</th>\n",
       "      <th>y</th>\n",
       "    </tr>\n",
       "  </thead>\n",
       "  <tbody>\n",
       "    <tr>\n",
       "      <th>0</th>\n",
       "      <td>For a movie that gets no respect there sure ar...</td>\n",
       "      <td>1</td>\n",
       "    </tr>\n",
       "    <tr>\n",
       "      <th>1</th>\n",
       "      <td>Bizarre horror movie filled with famous faces ...</td>\n",
       "      <td>1</td>\n",
       "    </tr>\n",
       "    <tr>\n",
       "      <th>2</th>\n",
       "      <td>A solid, if unremarkable film. Matthau, as Ein...</td>\n",
       "      <td>1</td>\n",
       "    </tr>\n",
       "    <tr>\n",
       "      <th>3</th>\n",
       "      <td>It's a strange feeling to sit alone in a theat...</td>\n",
       "      <td>1</td>\n",
       "    </tr>\n",
       "    <tr>\n",
       "      <th>4</th>\n",
       "      <td>You probably all already know this by now, but...</td>\n",
       "      <td>1</td>\n",
       "    </tr>\n",
       "  </tbody>\n",
       "</table>\n",
       "</div>"
      ],
      "text/plain": [
       "                                             reviews  y\n",
       "0  For a movie that gets no respect there sure ar...  1\n",
       "1  Bizarre horror movie filled with famous faces ...  1\n",
       "2  A solid, if unremarkable film. Matthau, as Ein...  1\n",
       "3  It's a strange feeling to sit alone in a theat...  1\n",
       "4  You probably all already know this by now, but...  1"
      ]
     },
     "execution_count": 9,
     "metadata": {},
     "output_type": "execute_result"
    }
   ],
   "source": [
    "test_df.head()"
   ]
  },
  {
   "cell_type": "code",
   "execution_count": 10,
   "metadata": {
    "ExecuteTime": {
     "end_time": "2019-04-16T19:50:00.168794Z",
     "start_time": "2019-04-16T19:50:00.161172Z"
    }
   },
   "outputs": [
    {
     "data": {
      "text/html": [
       "<div>\n",
       "<style scoped>\n",
       "    .dataframe tbody tr th:only-of-type {\n",
       "        vertical-align: middle;\n",
       "    }\n",
       "\n",
       "    .dataframe tbody tr th {\n",
       "        vertical-align: top;\n",
       "    }\n",
       "\n",
       "    .dataframe thead th {\n",
       "        text-align: right;\n",
       "    }\n",
       "</style>\n",
       "<table border=\"1\" class=\"dataframe\">\n",
       "  <thead>\n",
       "    <tr style=\"text-align: right;\">\n",
       "      <th></th>\n",
       "      <th>reviews</th>\n",
       "      <th>y</th>\n",
       "    </tr>\n",
       "  </thead>\n",
       "  <tbody>\n",
       "    <tr>\n",
       "      <th>24995</th>\n",
       "      <td>My comments may be a bit of a spoiler, for wha...</td>\n",
       "      <td>0</td>\n",
       "    </tr>\n",
       "    <tr>\n",
       "      <th>24996</th>\n",
       "      <td>The \"saucy\" misadventures of four au pairs who...</td>\n",
       "      <td>0</td>\n",
       "    </tr>\n",
       "    <tr>\n",
       "      <th>24997</th>\n",
       "      <td>Oh, those Italians! Assuming that movies about...</td>\n",
       "      <td>0</td>\n",
       "    </tr>\n",
       "    <tr>\n",
       "      <th>24998</th>\n",
       "      <td>Eight academy nominations? It's beyond belief....</td>\n",
       "      <td>0</td>\n",
       "    </tr>\n",
       "    <tr>\n",
       "      <th>24999</th>\n",
       "      <td>Not that I dislike childrens movies, but this ...</td>\n",
       "      <td>0</td>\n",
       "    </tr>\n",
       "  </tbody>\n",
       "</table>\n",
       "</div>"
      ],
      "text/plain": [
       "                                                 reviews  y\n",
       "24995  My comments may be a bit of a spoiler, for wha...  0\n",
       "24996  The \"saucy\" misadventures of four au pairs who...  0\n",
       "24997  Oh, those Italians! Assuming that movies about...  0\n",
       "24998  Eight academy nominations? It's beyond belief....  0\n",
       "24999  Not that I dislike childrens movies, but this ...  0"
      ]
     },
     "execution_count": 10,
     "metadata": {},
     "output_type": "execute_result"
    }
   ],
   "source": [
    "test_df.tail()"
   ]
  },
  {
   "cell_type": "markdown",
   "metadata": {},
   "source": [
    "# Pre-Processing"
   ]
  },
  {
   "cell_type": "code",
   "execution_count": 11,
   "metadata": {
    "ExecuteTime": {
     "end_time": "2019-04-16T19:50:01.170764Z",
     "start_time": "2019-04-16T19:50:01.167658Z"
    }
   },
   "outputs": [],
   "source": [
    "MAX_LENGTH = 15\n",
    "\n",
    "UNK_token = 0\n",
    "PAD_token = 1\n",
    "SOS_token = 2\n",
    "EOS_token = 3"
   ]
  },
  {
   "cell_type": "code",
   "execution_count": 12,
   "metadata": {
    "ExecuteTime": {
     "end_time": "2019-04-16T19:50:02.795984Z",
     "start_time": "2019-04-16T19:50:02.784126Z"
    }
   },
   "outputs": [],
   "source": [
    "class Voc(Dataset):\n",
    "    def __init__(self, name):\n",
    "        self.name = name\n",
    "        self.trimmed = False\n",
    "        self.word2index = {}\n",
    "        self.word2count = {}\n",
    "        self.index2word = {PAD_token: 'PAD', SOS_token: 'SOS', \n",
    "                           EOS_token: 'EOS', UNK_token: 'UNK'}\n",
    "        self.num_words = 4 # include the ones above\n",
    "        \n",
    "    def add_sentence(self, sentence):\n",
    "        for word in sentence.split():\n",
    "            self.add_word(word.lower())\n",
    "            \n",
    "    def add_word(self, word):\n",
    "        if word not in self.word2index:\n",
    "            self.word2index[word] = self.num_words\n",
    "            self.word2count[word] = 1\n",
    "            self.index2word[self.num_words] = word\n",
    "            self.num_words += 1\n",
    "        else:\n",
    "            self.word2count[word] += 1\n",
    "            \n",
    "    # remove words that appear less frequently\n",
    "    def trim(self, min_count):\n",
    "        if self.trimmed:\n",
    "            return\n",
    "        self.trimmed = True\n",
    "        keep_words = []\n",
    "        for k, v in self.word2count.items():\n",
    "            if v >= min_count:\n",
    "                keep_words.append(k)\n",
    "        \n",
    "        self.word2index = {}\n",
    "        self.word2count = {}\n",
    "        self.index2word = {PAD_token: 'PAD', SOS_token: 'SOS', \n",
    "                           EOS_token: 'EOS', UNK_token: 'UNK'}\n",
    "        self.num_words = 4\n",
    "        for word in keep_words:\n",
    "            self.add_word(word)\n",
    "\n",
    "# takes string sentence and returns sentence of word indices\n",
    "def indexesFromSentence(voc, sentence):\n",
    "    return [voc.word2index[word] for word in sentence.split()] + [EOS_token]"
   ]
  },
  {
   "cell_type": "code",
   "execution_count": 13,
   "metadata": {
    "ExecuteTime": {
     "end_time": "2019-04-16T19:50:03.969091Z",
     "start_time": "2019-04-16T19:50:03.964095Z"
    }
   },
   "outputs": [],
   "source": [
    "class ReviewDataset():\n",
    "    def __init__(self, df):\n",
    "        \"\"\"Bad coding practice to use the globals but it will work for now\"\"\"\n",
    "        self.reviews = df\n",
    "        self.text = df['reviews']\n",
    "        self.rating = df['y']\n",
    "        \n",
    "    def __len__(self):\n",
    "        return len(self.reviews)\n",
    "    \n",
    "    def __getitem__(self, idx):\n",
    "        return (self.text[idx], self.rating[idx])"
   ]
  },
  {
   "cell_type": "code",
   "execution_count": 14,
   "metadata": {
    "ExecuteTime": {
     "end_time": "2019-04-16T19:50:05.467524Z",
     "start_time": "2019-04-16T19:50:05.464349Z"
    }
   },
   "outputs": [],
   "source": [
    "reviews = Voc('reviews')"
   ]
  },
  {
   "cell_type": "code",
   "execution_count": 15,
   "metadata": {
    "ExecuteTime": {
     "end_time": "2019-04-16T19:50:09.172940Z",
     "start_time": "2019-04-16T19:50:06.032343Z"
    }
   },
   "outputs": [],
   "source": [
    "for review in train_df['reviews']:\n",
    "    reviews.add_sentence(review)"
   ]
  },
  {
   "cell_type": "code",
   "execution_count": 16,
   "metadata": {
    "ExecuteTime": {
     "end_time": "2019-04-16T19:50:10.014559Z",
     "start_time": "2019-04-16T19:50:10.011206Z"
    }
   },
   "outputs": [],
   "source": [
    "train_ds = ReviewDataset(train_df)\n",
    "test_ds = ReviewDataset(test_df)"
   ]
  },
  {
   "cell_type": "code",
   "execution_count": 17,
   "metadata": {
    "ExecuteTime": {
     "end_time": "2019-04-16T19:50:10.695167Z",
     "start_time": "2019-04-16T19:50:10.690823Z"
    }
   },
   "outputs": [
    {
     "data": {
      "text/plain": [
       "[22454, 562, 3]"
      ]
     },
     "execution_count": 17,
     "metadata": {},
     "output_type": "execute_result"
    }
   ],
   "source": [
    "indexesFromSentence(reviews, 'hello world')"
   ]
  },
  {
   "cell_type": "code",
   "execution_count": 18,
   "metadata": {
    "ExecuteTime": {
     "end_time": "2019-04-16T19:50:11.592547Z",
     "start_time": "2019-04-16T19:50:11.589438Z"
    }
   },
   "outputs": [],
   "source": [
    "train_dataloader = DataLoader(train_ds,\n",
    "                              batch_size=1000,\n",
    "                              shuffle=True, \n",
    "                              num_workers=4)\n",
    "\n",
    "test_dataloader = DataLoader(test_ds,\n",
    "                             batch_size=1000,\n",
    "                             shuffle=True,\n",
    "                             num_workers=4)"
   ]
  },
  {
   "cell_type": "markdown",
   "metadata": {},
   "source": [
    "# Modeling"
   ]
  },
  {
   "cell_type": "markdown",
   "metadata": {},
   "source": [
    "The Han model is going to fit a GRU, and for each word i in the sequence, we will collect the hidden layer $h_{i}$. Then for the attention model we have the following algorithm, for word $w_{t}$ in sentence of length T.\n",
    "\n",
    "$$u_{t} = tanh(W_{w}h_{t} + b_{w})$$\n",
    "\n",
    "$$\\alpha_{t} = \\frac{exp(u_{t}^{T}u_{w})}{\\Sigma_{t}exp(u_{t}^{T}u_{w})}$$\n",
    "\n",
    "$$s = \\Sigma_{t} \\alpha_{t}h_{t}$$\n",
    "\n",
    "s is then input into a neural network for regression or classification."
   ]
  },
  {
   "cell_type": "code",
   "execution_count": 19,
   "metadata": {
    "ExecuteTime": {
     "end_time": "2019-04-16T19:50:13.591512Z",
     "start_time": "2019-04-16T19:50:13.580464Z"
    }
   },
   "outputs": [],
   "source": [
    "class HAN(nn.Module):\n",
    "    def __init__(self, vocab_size, embedding_dim=60, hidden_size=15, num_layers=1, dropout=0.1):\n",
    "        super(HAN, self).__init__()\n",
    "        self.gru = nn.GRU(input_size=embedding_dim, hidden_size=hidden_size,\n",
    "                          num_layers=num_layers, batch_first=True,\n",
    "                              dropout=(0 if num_layers==1 else dropout),\n",
    "                              bidirectional=True)\n",
    "\n",
    "        self.embedding = nn.Embedding(vocab_size, embedding_dim)\n",
    "        self.fc1 = nn.Linear(2*hidden_size, 100)\n",
    "        self.tanh = nn.Tanh()\n",
    "        self.fc2 = nn.Linear(100, 1, bias=False)\n",
    "        self.softmax = nn.Softmax(dim=1)\n",
    "        self.fc3 = nn.Linear(2*hidden_size, 1)\n",
    "        self.sigmoid = nn.Sigmoid()\n",
    "        \n",
    "    def forward(self, input_seq, input_lengths, hidden=None):\n",
    "        # convert word indices to embeddings\n",
    "        embedded = self.embedding(input_seq)\n",
    "        \n",
    "        # pass embeddings through GRU\n",
    "        # all_layers is shape batch_size x max(sentence_length) x hidden_size*2\n",
    "        all_layers, final = self.gru(embedded, hidden)\n",
    "\n",
    "        # pass the hidden layers through linear layer\n",
    "        # each word of each document will now be a length 100 tensor\n",
    "        u = self.tanh( self.fc1(all_layers) )\n",
    "        \n",
    "        # map the length 100 tensor to a scalar representing importance\n",
    "        # take the softmax to get the word importance WRT the document\n",
    "        alpha = self.softmax( self.fc2(u) )\n",
    "        \n",
    "        # take sum of hidden layers for each sentence weighted by the alphas \n",
    "        s = (all_layers*alpha).sum(dim=1)\n",
    "        \n",
    "        # take the linear combination of hidden layers and \n",
    "        # plug into Linear Layer and Sigmoid to get probability\n",
    "        s = self.sigmoid( self.fc3(s) )\n",
    "        \n",
    "        return s.squeeze(), alpha.squeeze() # will add alphas for visualization later"
   ]
  },
  {
   "cell_type": "code",
   "execution_count": 22,
   "metadata": {
    "ExecuteTime": {
     "end_time": "2019-04-16T19:50:51.000698Z",
     "start_time": "2019-04-16T19:50:50.982726Z"
    }
   },
   "outputs": [],
   "source": [
    "def train(model, num_epochs):\n",
    "    for epoch in range(num_epochs):\n",
    "        model.train()\n",
    "        losses = []\n",
    "        \n",
    "        for i, mails in enumerate(train_dataloader):\n",
    "            # read in values from dataloader\n",
    "            x = mails[0]\n",
    "            y = mails[1]\n",
    "\n",
    "            # index sentence and get lengths\n",
    "            x = [sen.split() for sen in x]\n",
    "            lengths = [len(sen) for sen in x]\n",
    "            x = [[reviews.word2index.get(word, UNK_token) for word in sentence] for sentence in x]\n",
    "\n",
    "            # create padded matrix\n",
    "            batch_size = len(y)\n",
    "            max_length = max(lengths)\n",
    "            padded_x = np.ones((batch_size, max_length))*PAD_token\n",
    "            for idx, x_len in enumerate(lengths):\n",
    "                sequence = x[idx]\n",
    "                padded_x[idx, 0:x_len] = sequence[:x_len]\n",
    "\n",
    "            x = torch.Tensor(padded_x).long()\n",
    "            y_hat, alpha = han(x, lengths)\n",
    "            optimizer.zero_grad()\n",
    "            \n",
    "            loss = criterion(y_hat, y.float())\n",
    "            loss.backward()\n",
    "            optimizer.step()\n",
    "            losses += [loss.item()]\n",
    "            \n",
    "        print(f'Train Loss after {epoch+1} epochs: {np.mean(losses)}')\n",
    "        if epoch % 5 == 4:\n",
    "            test(model)\n",
    "\n",
    "\n",
    "def test(model):\n",
    "    model.eval()\n",
    "    losses, correct, total = [], 0, 0\n",
    "    for i, mails in enumerate(test_dataloader):\n",
    "        # read in values from dataloader\n",
    "        x = mails[0]\n",
    "        y = mails[1]\n",
    "\n",
    "        # index sentence and get lengths\n",
    "        x = [sen.split() for sen in x]\n",
    "        lengths = [len(sen) for sen in x]\n",
    "        x = [[reviews.word2index.get(word, UNK_token) for word in sentence] for sentence in x]\n",
    "\n",
    "        # create padded matrix\n",
    "        batch_size = len(y)\n",
    "        max_length = max(lengths)\n",
    "        \n",
    "        padded_x = np.ones((batch_size, max_length))*PAD_token\n",
    "        for idx, x_len in enumerate(lengths):\n",
    "            sequence = x[idx]\n",
    "            padded_x[idx, 0:x_len] = sequence[:x_len]\n",
    "\n",
    "        x = torch.Tensor(padded_x).long()\n",
    "        y_hat, _ = han(x, lengths)\n",
    "\n",
    "        # cross-entropy\n",
    "        loss = criterion(y_hat, y.float())\n",
    "        losses += [loss.item()]\n",
    "        \n",
    "        # accuracy\n",
    "        # print(y_hat == y)\n",
    "        # correct += sum( y_hat == y )\n",
    "        # total += y.shape.squeeze().tolist()\n",
    "        \n",
    "    print(f'Test Loss: {np.mean(losses)}\\n')\n",
    "    # print(f'Test Accuracy: {correct / total}')"
   ]
  },
  {
   "cell_type": "markdown",
   "metadata": {},
   "source": [
    "# Training"
   ]
  },
  {
   "cell_type": "code",
   "execution_count": 23,
   "metadata": {
    "ExecuteTime": {
     "end_time": "2019-04-17T00:03:05.050635Z",
     "start_time": "2019-04-16T19:50:52.162853Z"
    },
    "scrolled": false
   },
   "outputs": [
    {
     "name": "stdout",
     "output_type": "stream",
     "text": [
      "Train Loss after 1 epochs: 0.6949618887901307\n",
      "Train Loss after 2 epochs: 0.692851722240448\n",
      "Train Loss after 3 epochs: 0.659152762889862\n",
      "Train Loss after 4 epochs: 0.5953547883033753\n",
      "Train Loss after 5 epochs: 0.5722791266441345\n",
      "Test Loss: 0.5506697940826416\n",
      "\n",
      "Train Loss after 6 epochs: 0.5548452806472778\n",
      "Train Loss after 7 epochs: 0.5488544297218323\n",
      "Train Loss after 8 epochs: 0.5379242944717407\n",
      "Train Loss after 9 epochs: 0.531576178073883\n",
      "Train Loss after 10 epochs: 0.5282258319854737\n",
      "Test Loss: 0.5240671873092652\n",
      "\n",
      "Train Loss after 11 epochs: 0.5255982732772827\n",
      "Train Loss after 12 epochs: 0.526283688545227\n",
      "Train Loss after 13 epochs: 0.5244661664962769\n",
      "Train Loss after 14 epochs: 0.5250935554504395\n",
      "Train Loss after 15 epochs: 0.5236330819129944\n",
      "Test Loss: 0.5193203473091126\n",
      "\n",
      "Train Loss after 16 epochs: 0.5200687003135681\n",
      "Train Loss after 17 epochs: 0.5187485384941101\n",
      "Train Loss after 18 epochs: 0.5178194856643676\n",
      "Train Loss after 19 epochs: 0.516795163154602\n",
      "Train Loss after 20 epochs: 0.5164368557929992\n",
      "Test Loss: 0.5157034564018249\n",
      "\n"
     ]
    }
   ],
   "source": [
    "V = len(reviews.index2word)\n",
    "han = HAN(hidden_size=40, vocab_size=V, embedding_dim=50)\n",
    "\n",
    "criterion = nn.BCEWithLogitsLoss()\n",
    "optimizer = optim.Adam(han.parameters(), lr=0.01)\n",
    "\n",
    "train(han, 20)"
   ]
  },
  {
   "cell_type": "code",
   "execution_count": 24,
   "metadata": {
    "ExecuteTime": {
     "end_time": "2019-04-17T00:03:05.278788Z",
     "start_time": "2019-04-17T00:03:05.087672Z"
    }
   },
   "outputs": [],
   "source": [
    "torch.save(han.state_dict(), '/Users/jon_ross/Desktop/HAN_lower.pt')"
   ]
  },
  {
   "cell_type": "markdown",
   "metadata": {},
   "source": [
    "TODO: Resume here by loading the model"
   ]
  },
  {
   "cell_type": "code",
   "execution_count": 55,
   "metadata": {
    "ExecuteTime": {
     "end_time": "2019-04-15T04:59:52.318528Z",
     "start_time": "2019-04-15T04:59:52.122909Z"
    }
   },
   "outputs": [
    {
     "data": {
      "text/plain": [
       "HAN(\n",
       "  (embedding): Embedding(280621, 50)\n",
       "  (gru): GRU(50, 40, batch_first=True, bidirectional=True)\n",
       "  (fc1): Linear(in_features=80, out_features=100, bias=True)\n",
       "  (tanh): Tanh()\n",
       "  (fc2): Linear(in_features=100, out_features=1, bias=False)\n",
       "  (softmax): Softmax()\n",
       "  (fc3): Linear(in_features=80, out_features=1, bias=True)\n",
       "  (sigmoid): Sigmoid()\n",
       ")"
      ]
     },
     "execution_count": 55,
     "metadata": {},
     "output_type": "execute_result"
    }
   ],
   "source": [
    "V = len(reviews.index2word)\n",
    "han = HAN(hidden_size=40, vocab_size=V, embedding_dim=50)\n",
    "criterion = nn.BCEWithLogitsLoss()\n",
    "optimizer = optim.Adam(han.parameters(), lr=0.01)\n",
    "\n",
    "han.load_state_dict(torch.load('/Users/jon_ross/Desktop/HAN.pt'))\n",
    "han.eval()"
   ]
  },
  {
   "cell_type": "code",
   "execution_count": 26,
   "metadata": {
    "ExecuteTime": {
     "end_time": "2019-04-15T01:11:25.744336Z",
     "start_time": "2019-04-14T23:16:31.159240Z"
    },
    "scrolled": true
   },
   "outputs": [
    {
     "name": "stdout",
     "output_type": "stream",
     "text": [
      "Train Loss after 1 epochs: 0.5241520142555237\n",
      "Train Loss after 2 epochs: 0.5224222278594971\n",
      "Train Loss after 3 epochs: 0.5198068642616271\n",
      "Train Loss after 4 epochs: 0.5182642269134522\n",
      "Train Loss after 5 epochs: 0.5175112605094909\n",
      "Test Loss: 0.5180205583572388\n",
      "\n",
      "Train Loss after 6 epochs: 0.5177202367782593\n",
      "Train Loss after 7 epochs: 0.5166498804092408\n",
      "Train Loss after 8 epochs: 0.5163352775573731\n",
      "Train Loss after 9 epochs: 0.5160267615318298\n",
      "Train Loss after 10 epochs: 0.5221404814720154\n",
      "Test Loss: 0.5192242956161499\n",
      "\n"
     ]
    }
   ],
   "source": [
    "train(han, 10)"
   ]
  },
  {
   "cell_type": "code",
   "execution_count": 27,
   "metadata": {
    "ExecuteTime": {
     "end_time": "2019-04-15T01:11:36.681097Z",
     "start_time": "2019-04-15T01:11:36.503606Z"
    }
   },
   "outputs": [],
   "source": [
    "torch.save(han.state_dict(), '/Users/jon_ross/Desktop/HAN.pt')"
   ]
  },
  {
   "cell_type": "markdown",
   "metadata": {},
   "source": [
    "# Visualize Attention"
   ]
  },
  {
   "cell_type": "code",
   "execution_count": 26,
   "metadata": {
    "ExecuteTime": {
     "end_time": "2019-04-17T00:04:48.085522Z",
     "start_time": "2019-04-17T00:04:47.729938Z"
    },
    "scrolled": true
   },
   "outputs": [],
   "source": [
    "import matplotlib.pyplot as plt\n",
    "from matplotlib import transforms\n",
    "\n",
    "def text_color(x, y, strings, colors, ax=None, **kw):   \n",
    "    if ax is None:\n",
    "        ax = plt.gca()\n",
    "    t = ax.transData\n",
    "    canvas = ax.figure.canvas\n",
    "\n",
    "    # horizontal version\n",
    "    for s, c in zip(strings, colors):\n",
    "        text = ax.text(x, y, s + \" \", color=(0.69-0.69*c,0.69-0.69*c,1), transform=t, **kw)\n",
    "        text.draw(canvas.get_renderer())\n",
    "        ex = text.get_window_extent()\n",
    "        t = transforms.offset_copy(\n",
    "            text.get_transform(), x=ex.width, units='dots')\n",
    "        \n",
    "\n",
    "def visualize_attention(sentence):\n",
    "    sentence_tensor = torch.Tensor( [reviews.word2index[word] for word in sentence.split()] ).long()\n",
    "    sentence_tensor = sentence_tensor.unsqueeze(dim=0)\n",
    "    \n",
    "    p, alpha = han( sentence_tensor, [len(sentence.split())] )\n",
    "    print(f'Probability of positive review: {p}')\n",
    "    \n",
    "    text_color(0, 0, sentence.split(), alpha.tolist())\n",
    "    plt.axis('off')"
   ]
  },
  {
   "cell_type": "markdown",
   "metadata": {},
   "source": [
    "TODO: Unseen words are breaking the visualize function and I think it's because of the casing issues"
   ]
  },
  {
   "cell_type": "code",
   "execution_count": 28,
   "metadata": {
    "ExecuteTime": {
     "end_time": "2019-04-17T00:04:55.679503Z",
     "start_time": "2019-04-17T00:04:55.545449Z"
    }
   },
   "outputs": [
    {
     "name": "stdout",
     "output_type": "stream",
     "text": [
      "Probability of positive review: 0.0004007560492027551\n"
     ]
    },
    {
     "data": {
      "image/png": "[encoded data removed]",
      "text/plain": [
       "<Figure size 432x288 with 1 Axes>"
      ]
     },
     "metadata": {
      "needs_background": "light"
     },
     "output_type": "display_data"
    }
   ],
   "source": [
    "visualize_attention('this film was horrible and i hated it')"
   ]
  },
  {
   "cell_type": "code",
   "execution_count": 29,
   "metadata": {
    "ExecuteTime": {
     "end_time": "2019-04-17T00:05:02.604439Z",
     "start_time": "2019-04-17T00:05:02.513537Z"
    }
   },
   "outputs": [
    {
     "name": "stdout",
     "output_type": "stream",
     "text": [
      "Probability of positive review: 0.9999785423278809\n"
     ]
    },
    {
     "data": {
      "image/png": "[encoded data removed]",
      "text/plain": [
       "<Figure size 432x288 with 1 Axes>"
      ]
     },
     "metadata": {
      "needs_background": "light"
     },
     "output_type": "display_data"
    }
   ],
   "source": [
    "visualize_attention('this was a great and stupendous movie that i enjoyed')"
   ]
  },
  {
   "cell_type": "code",
   "execution_count": 30,
   "metadata": {
    "ExecuteTime": {
     "end_time": "2019-04-17T00:05:10.431533Z",
     "start_time": "2019-04-17T00:05:07.417378Z"
    }
   },
   "outputs": [
    {
     "name": "stdout",
     "output_type": "stream",
     "text": [
      "Probability of positive review: 0.9995682835578918\n"
     ]
    },
    {
     "data": {
      "image/png": "[encoded data removed]",
      "text/plain": [
       "<Figure size 432x288 with 1 Axes>"
      ]
     },
     "metadata": {
      "needs_background": "light"
     },
     "output_type": "display_data"
    }
   ],
   "source": [
    "visualize_attention('wonderful story about a family')"
   ]
  },
  {
   "cell_type": "code",
   "execution_count": 31,
   "metadata": {
    "ExecuteTime": {
     "end_time": "2019-04-17T00:05:15.669055Z",
     "start_time": "2019-04-17T00:05:15.585479Z"
    }
   },
   "outputs": [
    {
     "name": "stdout",
     "output_type": "stream",
     "text": [
      "Probability of positive review: 0.9546581506729126\n"
     ]
    },
    {
     "data": {
      "image/png": "[encoded data removed]",
      "text/plain": [
       "<Figure size 432x288 with 1 Axes>"
      ]
     },
     "metadata": {
      "needs_background": "light"
     },
     "output_type": "display_data"
    }
   ],
   "source": [
    "visualize_attention('i like this good movie')"
   ]
  },
  {
   "cell_type": "code",
   "execution_count": 32,
   "metadata": {
    "ExecuteTime": {
     "end_time": "2019-04-17T00:05:21.450455Z",
     "start_time": "2019-04-17T00:05:21.361141Z"
    }
   },
   "outputs": [
    {
     "name": "stdout",
     "output_type": "stream",
     "text": [
      "Probability of positive review: 0.9996213912963867\n"
     ]
    },
    {
     "data": {
      "image/png": "[encoded data removed]",
      "text/plain": [
       "<Figure size 432x288 with 1 Axes>"
      ]
     },
     "metadata": {
      "needs_background": "light"
     },
     "output_type": "display_data"
    }
   ],
   "source": [
    "visualize_attention('fun for the whole family')"
   ]
  },
  {
   "cell_type": "code",
   "execution_count": 33,
   "metadata": {
    "ExecuteTime": {
     "end_time": "2019-04-17T00:05:24.519394Z",
     "start_time": "2019-04-17T00:05:24.440817Z"
    }
   },
   "outputs": [
    {
     "name": "stdout",
     "output_type": "stream",
     "text": [
      "Probability of positive review: 4.977836397301871e-06\n"
     ]
    },
    {
     "data": {
      "image/png": "[encoded data removed]",
      "text/plain": [
       "<Figure size 432x288 with 1 Axes>"
      ]
     },
     "metadata": {
      "needs_background": "light"
     },
     "output_type": "display_data"
    }
   ],
   "source": [
    "visualize_attention('stupid bad boring')"
   ]
  },
  {
   "cell_type": "code",
   "execution_count": 34,
   "metadata": {
    "ExecuteTime": {
     "end_time": "2019-04-17T00:05:28.228522Z",
     "start_time": "2019-04-17T00:05:28.135228Z"
    }
   },
   "outputs": [
    {
     "name": "stdout",
     "output_type": "stream",
     "text": [
      "Probability of positive review: 0.0002521085843909532\n"
     ]
    },
    {
     "data": {
      "image/png": "[encoded data removed]",
      "text/plain": [
       "<Figure size 432x288 with 1 Axes>"
      ]
     },
     "metadata": {
      "needs_background": "light"
     },
     "output_type": "display_data"
    }
   ],
   "source": [
    "visualize_attention('the quick brown fox jumped over the lazy dog')"
   ]
  },
  {
   "cell_type": "code",
   "execution_count": 35,
   "metadata": {
    "ExecuteTime": {
     "end_time": "2019-04-17T00:05:31.659552Z",
     "start_time": "2019-04-17T00:05:31.582717Z"
    }
   },
   "outputs": [
    {
     "name": "stdout",
     "output_type": "stream",
     "text": [
      "Probability of positive review: 0.9905688762664795\n"
     ]
    },
    {
     "data": {
      "image/png": "[encoded data removed]",
      "text/plain": [
       "<Figure size 432x288 with 1 Axes>"
      ]
     },
     "metadata": {
      "needs_background": "light"
     },
     "output_type": "display_data"
    }
   ],
   "source": [
    "visualize_attention('penis and balls')"
   ]
  },
  {
   "cell_type": "code",
   "execution_count": 36,
   "metadata": {
    "ExecuteTime": {
     "end_time": "2019-04-17T00:05:39.850571Z",
     "start_time": "2019-04-17T00:05:39.779037Z"
    }
   },
   "outputs": [
    {
     "name": "stdout",
     "output_type": "stream",
     "text": [
      "Probability of positive review: 0.5578060746192932\n"
     ]
    },
    {
     "data": {
      "image/png": "[encoded data removed]",
      "text/plain": [
       "<Figure size 432x288 with 1 Axes>"
      ]
     },
     "metadata": {
      "needs_background": "light"
     },
     "output_type": "display_data"
    }
   ],
   "source": [
    "visualize_attention('tits and ass')"
   ]
  },
  {
   "cell_type": "code",
   "execution_count": 37,
   "metadata": {
    "ExecuteTime": {
     "end_time": "2019-04-17T00:05:43.449758Z",
     "start_time": "2019-04-17T00:05:43.376302Z"
    }
   },
   "outputs": [
    {
     "name": "stdout",
     "output_type": "stream",
     "text": [
      "Probability of positive review: 0.020546400919556618\n"
     ]
    },
    {
     "data": {
      "image/png": "[encoded data removed]",
      "text/plain": [
       "<Figure size 432x288 with 1 Axes>"
      ]
     },
     "metadata": {
      "needs_background": "light"
     },
     "output_type": "display_data"
    }
   ],
   "source": [
    "visualize_attention('woman doctor')"
   ]
  },
  {
   "cell_type": "code",
   "execution_count": 38,
   "metadata": {
    "ExecuteTime": {
     "end_time": "2019-04-17T00:05:48.152162Z",
     "start_time": "2019-04-17T00:05:48.082054Z"
    }
   },
   "outputs": [
    {
     "name": "stdout",
     "output_type": "stream",
     "text": [
      "Probability of positive review: 0.7892389297485352\n"
     ]
    },
    {
     "data": {
      "image/png": "[encoded data removed]",
      "text/plain": [
       "<Figure size 432x288 with 1 Axes>"
      ]
     },
     "metadata": {
      "needs_background": "light"
     },
     "output_type": "display_data"
    }
   ],
   "source": [
    "visualize_attention('man doctor')"
   ]
  },
  {
   "cell_type": "code",
   "execution_count": 39,
   "metadata": {
    "ExecuteTime": {
     "end_time": "2019-04-17T00:05:53.459408Z",
     "start_time": "2019-04-17T00:05:52.586621Z"
    }
   },
   "outputs": [
    {
     "name": "stdout",
     "output_type": "stream",
     "text": [
      "Probability of positive review: 0.9541011452674866\n"
     ]
    },
    {
     "data": {
      "image/png": "[encoded data removed]",
      "text/plain": [
       "<Figure size 432x288 with 1 Axes>"
      ]
     },
     "metadata": {
      "needs_background": "light"
     },
     "output_type": "display_data"
    }
   ],
   "source": [
    "review = 'I went and saw this movie last night after being coaxed to by a few friends of mine. Ill admit that I was reluctant to see it because from what I knew of he was only able to do comedy. I was wrong.  played the character of  very well, and played with such professionalism. The sign of a good movie is that it can toy with our emotions. This one did exactly that. The entire theater (which was sold out) was overcome by laughter during the first half of the movie, and were moved to tears during the second half. While exiting the theater I not only saw many women in tears, but many full grown men as well, trying desperately not to let anyone see them crying. This movie was great, and I suggest that you go see it before you judge.'\n",
    "review = review.lower()\n",
    "\n",
    "visualize_attention(review)"
   ]
  },
  {
   "cell_type": "code",
   "execution_count": 40,
   "metadata": {
    "ExecuteTime": {
     "end_time": "2019-04-17T00:06:00.160626Z",
     "start_time": "2019-04-17T00:06:00.091535Z"
    }
   },
   "outputs": [
    {
     "name": "stdout",
     "output_type": "stream",
     "text": [
      "Probability of positive review: 0.003958775196224451\n"
     ]
    },
    {
     "data": {
      "image/png": "[encoded data removed]",
      "text/plain": [
       "<Figure size 432x288 with 1 Axes>"
      ]
     },
     "metadata": {
      "needs_background": "light"
     },
     "output_type": "display_data"
    }
   ],
   "source": [
    "visualize_attention('ashton kutcher')"
   ]
  },
  {
   "cell_type": "code",
   "execution_count": null,
   "metadata": {},
   "outputs": [],
   "source": []
  }
 ],
 "metadata": {
  "kernelspec": {
   "display_name": "Python 3",
   "language": "python",
   "name": "python3"
  },
  "language_info": {
   "codemirror_mode": {
    "name": "ipython",
    "version": 3
   },
   "file_extension": ".py",
   "mimetype": "text/x-python",
   "name": "python",
   "nbconvert_exporter": "python",
   "pygments_lexer": "ipython3",
   "version": "3.7.3"
  },
  "notify_time": "5"
 },
 "nbformat": 4,
 "nbformat_minor": 2
}
